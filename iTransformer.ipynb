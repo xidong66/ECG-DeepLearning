{
 "cells": [
  {
   "cell_type": "code",
   "execution_count": 1,
   "metadata": {},
   "outputs": [
    {
     "name": "stderr",
     "output_type": "stream",
     "text": [
      "c:\\ProgramData\\anaconda3\\envs\\tensorflow\\lib\\site-packages\\scipy\\__init__.py:132: UserWarning: A NumPy version >=1.21.6 and <1.28.0 is required for this version of SciPy (detected version 1.20.3)\n",
      "  warnings.warn(f\"A NumPy version >={np_minversion} and <{np_maxversion}\"\n"
     ]
    }
   ],
   "source": [
    "import numpy as np\n",
    "import tensorflow as tf\n",
    "from keras.layers import Add\n",
    "from tensorflow.keras.utils import to_categorical\n",
    "from tensorflow.keras.layers import (\n",
    "  Input, Conv1D, BatchNormalization,\n",
    "  Dense, Dropout, LayerNormalization, MultiHeadAttention,GlobalAveragePooling1D\n",
    ")\n",
    "from utils import (\n",
    "  encode_labels, check_gpu_availability,evaluate_model,AdjustLearningRateCallback,AdjustLearningRateCallback\n",
    ")\n",
    "from utils import plot_confusion_matrix2\n",
    "from tensorflow.keras.callbacks import EarlyStopping\n",
    "from tensorflow.keras.models import Model\n",
    "from tensorflow.keras.layers import Input, Dense, MultiHeadAttention, LayerNormalization, Dropout\n",
    "import tensorflow as tf\n",
    "from tensorflow.keras.layers import Input, Conv1D, BatchNormalization, Activation, Add, GlobalAveragePooling1D, Dropout, Dense\n",
    "from tensorflow.keras.models import Model"
   ]
  },
  {
   "cell_type": "code",
   "execution_count": 2,
   "metadata": {},
   "outputs": [
    {
     "name": "stdout",
     "output_type": "stream",
     "text": [
      "GPU 可用\n"
     ]
    }
   ],
   "source": [
    "check_gpu_availability()"
   ]
  },
  {
   "cell_type": "code",
   "execution_count": 3,
   "metadata": {},
   "outputs": [],
   "source": [
    "datafilename1 = \"C:\\\\Users\\\\Administrator\\\\Desktop\\\\database\\\\cinc2017denoise.npz\"\n",
    "data1 = np.load(datafilename1, allow_pickle=True)\n",
    "X_train, y_train, X_val, y_val, X_test, y_test = data1['ecgstrain'], data1['labelstrain'], data1['ecgsval'], data1['labelsval'], data1['ecgstest'], data1['labelstest']"
   ]
  },
  {
   "cell_type": "code",
   "execution_count": 4,
   "metadata": {},
   "outputs": [],
   "source": [
    "y_train = encode_labels(y_train)\n",
    "y_test = encode_labels(y_test)\n",
    "y_val= encode_labels(y_val)\n",
    "y_train = to_categorical(y_train, num_classes=4)\n",
    "y_val=to_categorical(y_val, num_classes=4)\n",
    "y_test = to_categorical(y_test, num_classes=4)"
   ]
  },
  {
   "cell_type": "code",
   "execution_count": 5,
   "metadata": {},
   "outputs": [],
   "source": [
    "def residual_block(x, filters, kernel_size, strides):\n",
    "    shortcut = x \n",
    "    x = Conv1D(filters, kernel_size, strides=strides, padding='same')(x)\n",
    "    x = BatchNormalization()(x)\n",
    "    x = Activation('relu')(x)\n",
    "    x = Conv1D(filters, kernel_size, padding='same')(x)\n",
    "    x = BatchNormalization()(x)\n",
    "    if shortcut.shape[-1] != x.shape[-1] or shortcut.shape[-2] != x.shape[-2]:\n",
    "        shortcut = Conv1D(filters, 1, strides=strides, padding='same')(shortcut)\n",
    "        shortcut = BatchNormalization()(shortcut)\n",
    "    x = Add()([x, shortcut])\n",
    "    x = Activation('relu')(x)\n",
    "    return x\n",
    "def embedding_layer(inputs, d_model):\n",
    "    return tf.keras.layers.Dense(d_model, activation='relu')(inputs)\n",
    "def temporal_layer_norm(x, epsilon=1e-6):\n",
    "    mean = tf.reduce_mean(x, axis=-1, keepdims=True)\n",
    "    variance = tf.reduce_mean(tf.square(x - mean), axis=-1, keepdims=True)\n",
    "    return (x - mean) * tf.math.rsqrt(variance + epsilon) + mean\n",
    "def iTransformer_block(embedded_tokens, num_heads=8, ff_dim=256, dropout_rate=0.1):\n",
    "    attention_output = MultiHeadAttention(num_heads=num_heads, key_dim=ff_dim)(embedded_tokens, embedded_tokens, embedded_tokens)\n",
    "    attention_output = Dropout(dropout_rate)(attention_output)\n",
    "    attention_output = Add()([embedded_tokens, attention_output])\n",
    "    attention_output = LayerNormalization(epsilon=1e-6)(attention_output)\n",
    "    ffn_output = Dense(ff_dim * 4, activation='relu')(attention_output)\n",
    "    ffn_output = Dense(ff_dim, activation='relu')(ffn_output)\n",
    "    ffn_output = Dropout(dropout_rate)(ffn_output)\n",
    "    ffn_output = Add()([attention_output, ffn_output])\n",
    "    ffn_output = temporal_layer_norm(ffn_output)\n",
    "    return ffn_output\n",
    "def iTransformer(num_heads=4, ff_dim=64,dropout_rate=0.1):\n",
    "    inputs = Input(shape=(4500,1))\n",
    "    x = Conv1D(32, 31, strides=2, padding='same')(inputs)\n",
    "    x = BatchNormalization()(x)\n",
    "    x = Activation('relu')(x)\n",
    "    x = residual_block(x, 32, 3, 2)\n",
    "    x = residual_block(x, 64, 3, 2)\n",
    "    x = iTransformer_block(x, num_heads, ff_dim, dropout_rate)\n",
    "    x = iTransformer_block(x, num_heads, ff_dim, dropout_rate)\n",
    "    x = iTransformer_block(x, num_heads, ff_dim, dropout_rate)\n",
    "    x = GlobalAveragePooling1D()(x)\n",
    "    x = Dense(4, activation='softmax')(x)\n",
    "    model = Model(inputs=inputs, outputs=x)\n",
    "    return model\n",
    "\n",
    "model = iTransformer()"
   ]
  },
  {
   "cell_type": "code",
   "execution_count": 6,
   "metadata": {},
   "outputs": [],
   "source": [
    "import tensorflow as tf\n",
    "def weighted_crossentropy(weights):\n",
    "    def loss(y_true, y_pred):\n",
    "        unweighted_loss = tf.keras.losses.CategoricalCrossentropy()(y_true, y_pred)\n",
    "        weighted_loss = unweighted_loss * weights\n",
    "        return weighted_loss\n",
    "    return loss\n",
    "class_weights = [2.0, 1.0, 1.5, 1.0] "
   ]
  },
  {
   "cell_type": "code",
   "execution_count": 7,
   "metadata": {},
   "outputs": [],
   "source": [
    "model.compile(optimizer='Adam', loss=weighted_crossentropy(class_weights), metrics=['accuracy'])"
   ]
  },
  {
   "cell_type": "code",
   "execution_count": 8,
   "metadata": {},
   "outputs": [
    {
     "name": "stdout",
     "output_type": "stream",
     "text": [
      "Epoch 1/80\n",
      "110/110 [==============================] - 26s 148ms/step - loss: 1.2387 - accuracy: 0.5954 - val_loss: 1.2182 - val_accuracy: 0.6049\n",
      "Epoch 2/80\n",
      "110/110 [==============================] - 15s 138ms/step - loss: 1.0857 - accuracy: 0.6511 - val_loss: 1.0255 - val_accuracy: 0.6703\n",
      "Epoch 3/80\n",
      "110/110 [==============================] - 15s 139ms/step - loss: 0.9704 - accuracy: 0.6893 - val_loss: 1.0086 - val_accuracy: 0.6747\n",
      "Epoch 4/80\n",
      "110/110 [==============================] - 15s 139ms/step - loss: 0.9067 - accuracy: 0.7113 - val_loss: 0.8924 - val_accuracy: 0.7188\n",
      "Epoch 5/80\n",
      "110/110 [==============================] - 15s 139ms/step - loss: 0.8818 - accuracy: 0.7191 - val_loss: 0.8610 - val_accuracy: 0.7319\n",
      "Epoch 6/80\n",
      "110/110 [==============================] - 15s 140ms/step - loss: 0.8334 - accuracy: 0.7401 - val_loss: 0.8477 - val_accuracy: 0.7362\n",
      "Epoch 7/80\n",
      "110/110 [==============================] - 15s 140ms/step - loss: 0.8110 - accuracy: 0.7493 - val_loss: 0.8064 - val_accuracy: 0.7444\n",
      "Epoch 8/80\n",
      "110/110 [==============================] - 15s 140ms/step - loss: 0.7980 - accuracy: 0.7503 - val_loss: 0.7898 - val_accuracy: 0.7455\n",
      "Epoch 9/80\n",
      "110/110 [==============================] - 15s 140ms/step - loss: 0.7792 - accuracy: 0.7564 - val_loss: 0.8062 - val_accuracy: 0.7488\n",
      "Epoch 10/80\n",
      "110/110 [==============================] - 15s 140ms/step - loss: 0.7541 - accuracy: 0.7672 - val_loss: 0.7871 - val_accuracy: 0.7586\n",
      "Epoch 11/80\n",
      "110/110 [==============================] - 15s 140ms/step - loss: 0.7446 - accuracy: 0.7682 - val_loss: 0.7632 - val_accuracy: 0.7689\n",
      "Epoch 12/80\n",
      "110/110 [==============================] - 15s 140ms/step - loss: 0.7287 - accuracy: 0.7746 - val_loss: 0.7439 - val_accuracy: 0.7738\n",
      "Epoch 13/80\n",
      "110/110 [==============================] - 15s 140ms/step - loss: 0.7104 - accuracy: 0.7811 - val_loss: 0.7576 - val_accuracy: 0.7689\n",
      "Epoch 14/80\n",
      "110/110 [==============================] - 15s 140ms/step - loss: 0.6871 - accuracy: 0.7894 - val_loss: 0.7321 - val_accuracy: 0.7815\n",
      "Epoch 15/80\n",
      "110/110 [==============================] - 15s 140ms/step - loss: 0.6788 - accuracy: 0.7927 - val_loss: 0.7354 - val_accuracy: 0.7689\n",
      "Epoch 16/80\n",
      "110/110 [==============================] - 15s 139ms/step - loss: 0.6582 - accuracy: 0.8036 - val_loss: 0.7476 - val_accuracy: 0.7826\n",
      "Reduced learning rate to 0.00010000000474974513.\n",
      "Epoch 17/80\n",
      "110/110 [==============================] - 15s 140ms/step - loss: 0.5571 - accuracy: 0.8358 - val_loss: 0.6678 - val_accuracy: 0.8093\n",
      "Epoch 18/80\n",
      "110/110 [==============================] - 15s 140ms/step - loss: 0.5125 - accuracy: 0.8525 - val_loss: 0.6610 - val_accuracy: 0.8098\n",
      "Epoch 19/80\n",
      "110/110 [==============================] - 15s 140ms/step - loss: 0.4930 - accuracy: 0.8596 - val_loss: 0.6535 - val_accuracy: 0.8131\n",
      "Epoch 20/80\n",
      "110/110 [==============================] - 15s 140ms/step - loss: 0.4738 - accuracy: 0.8665 - val_loss: 0.6636 - val_accuracy: 0.8087\n",
      "Epoch 21/80\n",
      "110/110 [==============================] - 15s 140ms/step - loss: 0.4579 - accuracy: 0.8712 - val_loss: 0.6592 - val_accuracy: 0.8125\n",
      "Reduced learning rate to 1.0000000656873453e-05.\n",
      "Epoch 22/80\n",
      "110/110 [==============================] - 15s 139ms/step - loss: 0.4331 - accuracy: 0.8814 - val_loss: 0.6519 - val_accuracy: 0.8158\n",
      "Epoch 23/80\n",
      "110/110 [==============================] - 15s 139ms/step - loss: 0.4268 - accuracy: 0.8835 - val_loss: 0.6562 - val_accuracy: 0.8153\n",
      "Epoch 24/80\n",
      "110/110 [==============================] - 15s 140ms/step - loss: 0.4238 - accuracy: 0.8844 - val_loss: 0.6566 - val_accuracy: 0.8169\n",
      "Reduced learning rate to 1.0000001111620804e-06.\n",
      "Epoch 25/80\n",
      "110/110 [==============================] - 15s 140ms/step - loss: 0.4211 - accuracy: 0.8859 - val_loss: 0.6559 - val_accuracy: 0.8163\n",
      "Epoch 26/80\n",
      "110/110 [==============================] - 15s 139ms/step - loss: 0.4200 - accuracy: 0.8852 - val_loss: 0.6557 - val_accuracy: 0.8163\n",
      "Reduced learning rate to 1.0000001537946446e-07.\n",
      "Epoch 27/80\n",
      "110/110 [==============================] - 15s 140ms/step - loss: 0.4221 - accuracy: 0.8846 - val_loss: 0.6560 - val_accuracy: 0.8158\n"
     ]
    }
   ],
   "source": [
    "callback = AdjustLearningRateCallback(factor=0.1, patience=2, min_lr=1e-8)\n",
    "early_stopping = EarlyStopping(monitor='val_loss', patience=5)\n",
    "history=model.fit(X_train, y_train, batch_size=128, epochs=80, validation_data=(X_val, y_val), callbacks=[callback,early_stopping])"
   ]
  },
  {
   "cell_type": "code",
   "execution_count": 9,
   "metadata": {},
   "outputs": [
    {
     "name": "stdout",
     "output_type": "stream",
     "text": [
      "Precision: 0.8067365121607738\n",
      "Recall: 0.8232638115146791\n",
      "F1 Score: 0.8135516246438108\n",
      "Accuracy: 0.8165728077232502\n",
      "Class 1 - Precision: 0.7884615384615384, Recall: 0.9030837004405287, F1 Score: 0.8418891170431211\n",
      "Class 2 - Precision: 0.8583495776478233, Recall: 0.8800799467021986, F1 Score: 0.8690789473684211\n",
      "Class 3 - Precision: 0.7301349325337332, Recall: 0.6598915989159891, F1 Score: 0.6932384341637011\n",
      "Class 4 - Precision: 0.85, Recall: 0.85, F1 Score: 0.85\n",
      "Class 1 Accuracy: 0.9690265486725663\n",
      "Class 2 Accuracy: 0.8399034593724859\n",
      "Class 3 Accuracy: 0.8266291230893\n",
      "Class 4 Accuracy: 0.997586484312148\n"
     ]
    }
   ],
   "source": [
    "evaluate_model(model,X_test,y_test)"
   ]
  },
  {
   "cell_type": "code",
   "execution_count": 10,
   "metadata": {},
   "outputs": [],
   "source": [
    "y_pred_classes = np.argmax(model.predict(X_test), axis=-1)\n",
    "y_test_classes = np.argmax(y_test, axis=1)"
   ]
  },
  {
   "cell_type": "code",
   "execution_count": 11,
   "metadata": {},
   "outputs": [
    {
     "data": {
      "image/png": "[encoded data removed]",
      "text/plain": [
       "<Figure size 800x600 with 2 Axes>"
      ]
     },
     "metadata": {},
     "output_type": "display_data"
    }
   ],
   "source": [
    "plot_confusion_matrix2(y_test_classes, y_pred_classes, classes=['A', 'N', 'O', '~'])"
   ]
  }
 ],
 "metadata": {
  "kernelspec": {
   "display_name": "tensorflow",
   "language": "python",
   "name": "python3"
  },
  "language_info": {
   "codemirror_mode": {
    "name": "ipython",
    "version": 3
   },
   "file_extension": ".py",
   "mimetype": "text/x-python",
   "name": "python",
   "nbconvert_exporter": "python",
   "pygments_lexer": "ipython3",
   "version": "0.0.0"
  }
 },
 "nbformat": 4,
 "nbformat_minor": 2
}
