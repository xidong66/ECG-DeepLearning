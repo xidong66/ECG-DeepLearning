{
 "cells": [
  {
   "cell_type": "code",
   "execution_count": 1,
   "metadata": {},
   "outputs": [
    {
     "name": "stderr",
     "output_type": "stream",
     "text": [
      "c:\\ProgramData\\anaconda3\\envs\\tensorflow\\lib\\site-packages\\scipy\\__init__.py:132: UserWarning: A NumPy version >=1.21.6 and <1.28.0 is required for this version of SciPy (detected version 1.20.3)\n",
      "  warnings.warn(f\"A NumPy version >={np_minversion} and <{np_maxversion}\"\n"
     ]
    }
   ],
   "source": [
    "import os\n",
    "import numpy as np\n",
    "import pywt\n",
    "import random\n",
    "import seaborn as sns\n",
    "import tensorflow as tf\n",
    "from keras.layers import Add\n",
    "from tensorflow.keras.utils import to_categorical\n",
    "from tensorflow.keras.layers import (\n",
    "  Input, Conv1D, BatchNormalization, Activation, GlobalAveragePooling1D, \n",
    "  Dense, Dropout, GRU, Concatenate, LayerNormalization, MultiHeadAttention, \n",
    "  Reshape, Multiply, Softmax\n",
    ")\n",
    "from sklearn.model_selection import train_test_split\n",
    "from sklearn.manifold import TSNE\n",
    "from sklearn.utils import shuffle\n",
    "from sklearn.preprocessing import MinMaxScaler\n",
    "from matplotlib import pyplot as plt\n",
    "from utils import (\n",
    "  encode_labels, check_gpu_availability, plot_loss_accuracytupian, \n",
    "  evaluate_model, plot_confusion_matrixtupian, plot_tsne, \n",
    "  plot_precision_recall_curve_multiclasstupian, plot_roc_curve_multiclasstupian, \n",
    "  AdjustLearningRateCallback, denoise2,count_labels,denoise2_iterative2,AdjustLearningRateCallback\n",
    ")\n",
    "from utils import plot_precision_recall_curve_multiclass,plot_roc_curve_multiclass2,calculate_g_mean,plot_confusion_matrix,plot_confusion_matrix2,plot_loss_accuracy\n",
    "from tensorflow.keras.callbacks import EarlyStopping\n",
    "from tensorflow.keras.models import Model\n",
    "from tensorflow.keras.layers import Conv1DTranspose\n"
   ]
  },
  {
   "cell_type": "code",
   "execution_count": 2,
   "metadata": {},
   "outputs": [
    {
     "name": "stdout",
     "output_type": "stream",
     "text": [
      "GPU 可用\n"
     ]
    }
   ],
   "source": [
    "check_gpu_availability()"
   ]
  },
  {
   "cell_type": "code",
   "execution_count": 3,
   "metadata": {},
   "outputs": [],
   "source": [
    "datafilename1 = \"C:\\\\Users\\\\Administrator\\\\Desktop\\\\database\\\\cinc2017denoise.npz\"\n",
    "data1 = np.load(datafilename1, allow_pickle=True)\n",
    "X_train, y_train, X_val, y_val, X_test, y_test = data1['ecgstrain'], data1['labelstrain'], data1['ecgsval'], data1['labelsval'], data1['ecgstest'], data1['labelstest']"
   ]
  },
  {
   "cell_type": "code",
   "execution_count": 4,
   "metadata": {},
   "outputs": [],
   "source": [
    "y_train = encode_labels(y_train)\n",
    "y_val= encode_labels(y_val)\n",
    "y_test = encode_labels(y_test)\n",
    "y_train = to_categorical(y_train, num_classes=4)\n",
    "y_val=to_categorical(y_val, num_classes=4)\n",
    "y_test = to_categorical(y_test, num_classes=4)"
   ]
  },
  {
   "cell_type": "code",
   "execution_count": 5,
   "metadata": {},
   "outputs": [
    {
     "name": "stdout",
     "output_type": "stream",
     "text": [
      "Model: \"model\"\n",
      "__________________________________________________________________________________________________\n",
      "Layer (type)                    Output Shape         Param #     Connected to                     \n",
      "==================================================================================================\n",
      "input_1 (InputLayer)            [(None, 4500, 1)]    0                                            \n",
      "__________________________________________________________________________________________________\n",
      "conv1d (Conv1D)                 (None, 2250, 16)     512         input_1[0][0]                    \n",
      "__________________________________________________________________________________________________\n",
      "batch_normalization (BatchNorma (None, 2250, 16)     64          conv1d[0][0]                     \n",
      "__________________________________________________________________________________________________\n",
      "activation (Activation)         (None, 2250, 16)     0           batch_normalization[0][0]        \n",
      "__________________________________________________________________________________________________\n",
      "conv1d_1 (Conv1D)               (None, 1125, 32)     9760        activation[0][0]                 \n",
      "__________________________________________________________________________________________________\n",
      "batch_normalization_1 (BatchNor (None, 1125, 32)     128         conv1d_1[0][0]                   \n",
      "__________________________________________________________________________________________________\n",
      "activation_1 (Activation)       (None, 1125, 32)     0           batch_normalization_1[0][0]      \n",
      "__________________________________________________________________________________________________\n",
      "conv1d_2 (Conv1D)               (None, 563, 64)      18496       activation_1[0][0]               \n",
      "__________________________________________________________________________________________________\n",
      "batch_normalization_2 (BatchNor (None, 563, 64)      256         conv1d_2[0][0]                   \n",
      "__________________________________________________________________________________________________\n",
      "activation_2 (Activation)       (None, 563, 64)      0           batch_normalization_2[0][0]      \n",
      "__________________________________________________________________________________________________\n",
      "conv1d_3 (Conv1D)               (None, 282, 128)     57472       activation_2[0][0]               \n",
      "__________________________________________________________________________________________________\n",
      "batch_normalization_3 (BatchNor (None, 282, 128)     512         conv1d_3[0][0]                   \n",
      "__________________________________________________________________________________________________\n",
      "activation_3 (Activation)       (None, 282, 128)     0           batch_normalization_3[0][0]      \n",
      "__________________________________________________________________________________________________\n",
      "conv1d_4 (Conv1D)               (None, 141, 256)     164096      activation_3[0][0]               \n",
      "__________________________________________________________________________________________________\n",
      "batch_normalization_4 (BatchNor (None, 141, 256)     1024        conv1d_4[0][0]                   \n",
      "__________________________________________________________________________________________________\n",
      "activation_4 (Activation)       (None, 141, 256)     0           batch_normalization_4[0][0]      \n",
      "__________________________________________________________________________________________________\n",
      "conv1d_5 (Conv1D)               (None, 71, 512)      393728      activation_4[0][0]               \n",
      "__________________________________________________________________________________________________\n",
      "batch_normalization_5 (BatchNor (None, 71, 512)      2048        conv1d_5[0][0]                   \n",
      "__________________________________________________________________________________________________\n",
      "activation_5 (Activation)       (None, 71, 512)      0           batch_normalization_5[0][0]      \n",
      "__________________________________________________________________________________________________\n",
      "dense (Dense)                   (None, 282, 512)     66048       activation_3[0][0]               \n",
      "__________________________________________________________________________________________________\n",
      "dense_1 (Dense)                 (None, 141, 512)     131584      activation_4[0][0]               \n",
      "__________________________________________________________________________________________________\n",
      "dense_2 (Dense)                 (None, 71, 512)      262656      activation_5[0][0]               \n",
      "__________________________________________________________________________________________________\n",
      "global_average_pooling1d (Globa (None, 512)          0           dense[0][0]                      \n",
      "__________________________________________________________________________________________________\n",
      "global_average_pooling1d_1 (Glo (None, 512)          0           dense_1[0][0]                    \n",
      "__________________________________________________________________________________________________\n",
      "global_average_pooling1d_2 (Glo (None, 512)          0           dense_2[0][0]                    \n",
      "__________________________________________________________________________________________________\n",
      "add (Add)                       (None, 512)          0           global_average_pooling1d[0][0]   \n",
      "                                                                 global_average_pooling1d_1[0][0] \n",
      "                                                                 global_average_pooling1d_2[0][0] \n",
      "__________________________________________________________________________________________________\n",
      "dense_3 (Dense)                 (None, 128)          65664       add[0][0]                        \n",
      "__________________________________________________________________________________________________\n",
      "dropout (Dropout)               (None, 128)          0           dense_3[0][0]                    \n",
      "__________________________________________________________________________________________________\n",
      "dense_4 (Dense)                 (None, 4)            516         dropout[0][0]                    \n",
      "==================================================================================================\n",
      "Total params: 1,174,564\n",
      "Trainable params: 1,172,548\n",
      "Non-trainable params: 2,016\n",
      "__________________________________________________________________________________________________\n"
     ]
    }
   ],
   "source": [
    "import tensorflow as tf\n",
    "from tensorflow.keras.layers import Input, Conv1D, BatchNormalization, Activation, GlobalAveragePooling1D, Dense, Dropout, Concatenate, Reshape\n",
    "from tensorflow.keras.models import Model\n",
    "def TransformerEncoderLayer(d_model, num_heads, dff, rate=0.1):\n",
    "    def call(x, training):\n",
    "        attn = MultiHeadAttention(num_heads=num_heads, key_dim=d_model)(x, x, x)\n",
    "        attn = Dropout(rate)(attn)\n",
    "        out1 = LayerNormalization(epsilon=1e-6)(x + attn)\n",
    "        ffn = Dense(dff, activation='relu')(out1)\n",
    "        ffn = Dense(d_model)(ffn)\n",
    "        ffn = Dropout(rate)(ffn)\n",
    "        out2 = LayerNormalization(epsilon=1e-6)(out1 + ffn)\n",
    "        return out2\n",
    "    return call\n",
    "def conv_block(x, filters, kernel_size, strides):\n",
    "    x = Conv1D(filters, kernel_size, strides=strides, padding='same')(x)\n",
    "    x = BatchNormalization()(x)\n",
    "    x = Activation('relu')(x)\n",
    "    return x\n",
    "def sleepyco(input_shape, num_classes):\n",
    "    inputs = Input(shape=input_shape)\n",
    "    x= Conv1D(16, 31, strides=2, padding='same')(inputs)\n",
    "    x = BatchNormalization()(x)\n",
    "    x = Activation('relu')(x)\n",
    "    x= Conv1D(32, 19, strides=2, padding='same')(x)\n",
    "    x = BatchNormalization()(x)\n",
    "    x = Activation('relu')(x)\n",
    "    x = Conv1D(64, 9, strides=2, padding='same')(x)\n",
    "    x = BatchNormalization()(x)\n",
    "    x = Activation('relu')(x)\n",
    "    x = Conv1D(128, 7, strides=2, padding='same')(x)\n",
    "    x = BatchNormalization()(x)\n",
    "    x = Activation('relu')(x)\n",
    "    p1 = x \n",
    "    p1 = Dense(512, activation='relu')(p1)\n",
    "    p1=GlobalAveragePooling1D()(p1)\n",
    "    x = Conv1D(256, 5, strides=2, padding='same')(x)\n",
    "    x = BatchNormalization()(x)\n",
    "    x = Activation('relu')(x)\n",
    "    p2 = x\n",
    "    p2 = Dense(512, activation='relu')(p2)\n",
    "    p2=GlobalAveragePooling1D()(p2)\n",
    "    x = Conv1D(512, 3, strides=2, padding='same')(x)\n",
    "    x = BatchNormalization()(x)\n",
    "    x = Activation('relu')(x)\n",
    "    p3 = x\n",
    "    p3 = Dense(512, activation='relu')(p3)\n",
    "    p3=GlobalAveragePooling1D()(p3)\n",
    "    x = Add()([p1, p2, p3])\n",
    "    x = Dense(128, activation='relu')(x)\n",
    "    x = Dropout(0.1)(x)\n",
    "    outputs = Dense(num_classes, activation='softmax')(x)\n",
    "    model = Model(inputs=inputs, outputs=outputs)\n",
    "    return model\n",
    "\n",
    "model = sleepyco((4500, 1), 4)\n",
    "model.summary()"
   ]
  },
  {
   "cell_type": "code",
   "execution_count": 6,
   "metadata": {},
   "outputs": [],
   "source": [
    "import tensorflow as tf\n",
    "\n",
    "def weighted_crossentropy(weights):\n",
    "    def loss(y_true, y_pred):\n",
    "        # 计算未加权的交叉熵损失\n",
    "        unweighted_loss = tf.keras.losses.CategoricalCrossentropy()(y_true, y_pred)\n",
    "        # 应用类别权重\n",
    "        weighted_loss = unweighted_loss * weights\n",
    "        # 返回加权损失\n",
    "        return weighted_loss\n",
    "    return loss\n",
    "class_weights = [2.0, 1.0, 1.5, 1.0] "
   ]
  },
  {
   "cell_type": "code",
   "execution_count": 7,
   "metadata": {},
   "outputs": [
    {
     "name": "stdout",
     "output_type": "stream",
     "text": [
      "Epoch 1/80\n",
      "110/110 [==============================] - 16s 33ms/step - loss: 1.2138 - accuracy: 0.6105 - val_loss: 1.1939 - val_accuracy: 0.6267\n",
      "Epoch 2/80\n",
      "110/110 [==============================] - 3s 26ms/step - loss: 0.9429 - accuracy: 0.6943 - val_loss: 0.8891 - val_accuracy: 0.7063\n",
      "Epoch 3/80\n",
      "110/110 [==============================] - 3s 26ms/step - loss: 0.8438 - accuracy: 0.7357 - val_loss: 0.8829 - val_accuracy: 0.7275\n",
      "Epoch 4/80\n",
      "110/110 [==============================] - 3s 26ms/step - loss: 0.7682 - accuracy: 0.7670 - val_loss: 0.8519 - val_accuracy: 0.7477\n",
      "Epoch 5/80\n",
      "110/110 [==============================] - 3s 26ms/step - loss: 0.7355 - accuracy: 0.7792 - val_loss: 0.7497 - val_accuracy: 0.7728\n",
      "Epoch 6/80\n",
      "110/110 [==============================] - 3s 26ms/step - loss: 0.7075 - accuracy: 0.7858 - val_loss: 0.7465 - val_accuracy: 0.7815\n",
      "Epoch 7/80\n",
      "110/110 [==============================] - 3s 26ms/step - loss: 0.6809 - accuracy: 0.8001 - val_loss: 0.7352 - val_accuracy: 0.7831\n",
      "Epoch 8/80\n",
      "110/110 [==============================] - 3s 26ms/step - loss: 0.6572 - accuracy: 0.8084 - val_loss: 0.7560 - val_accuracy: 0.7728\n",
      "Epoch 9/80\n",
      "110/110 [==============================] - 3s 26ms/step - loss: 0.6430 - accuracy: 0.8145 - val_loss: 0.6992 - val_accuracy: 0.7853\n",
      "Epoch 10/80\n",
      "110/110 [==============================] - 3s 27ms/step - loss: 0.6190 - accuracy: 0.8219 - val_loss: 0.6809 - val_accuracy: 0.7951\n",
      "Epoch 11/80\n",
      "110/110 [==============================] - 3s 26ms/step - loss: 0.5966 - accuracy: 0.8279 - val_loss: 0.6823 - val_accuracy: 0.8033\n",
      "Epoch 12/80\n",
      "110/110 [==============================] - 3s 27ms/step - loss: 0.5852 - accuracy: 0.8298 - val_loss: 0.7352 - val_accuracy: 0.7787\n",
      "Reduced learning rate to 0.00010000000474974513.\n",
      "Epoch 13/80\n",
      "110/110 [==============================] - 3s 26ms/step - loss: 0.5190 - accuracy: 0.8528 - val_loss: 0.6112 - val_accuracy: 0.8196\n",
      "Epoch 14/80\n",
      "110/110 [==============================] - 3s 27ms/step - loss: 0.4844 - accuracy: 0.8637 - val_loss: 0.5962 - val_accuracy: 0.8272\n",
      "Epoch 15/80\n",
      "110/110 [==============================] - 3s 26ms/step - loss: 0.4669 - accuracy: 0.8703 - val_loss: 0.6037 - val_accuracy: 0.8229\n",
      "Epoch 16/80\n",
      "110/110 [==============================] - 3s 26ms/step - loss: 0.4538 - accuracy: 0.8755 - val_loss: 0.6121 - val_accuracy: 0.8240\n",
      "Reduced learning rate to 1.0000000656873453e-05.\n",
      "Epoch 17/80\n",
      "110/110 [==============================] - 3s 27ms/step - loss: 0.4327 - accuracy: 0.8836 - val_loss: 0.5916 - val_accuracy: 0.8322\n",
      "Epoch 18/80\n",
      "110/110 [==============================] - 3s 26ms/step - loss: 0.4274 - accuracy: 0.8843 - val_loss: 0.5923 - val_accuracy: 0.8294\n",
      "Epoch 19/80\n",
      "110/110 [==============================] - 3s 27ms/step - loss: 0.4272 - accuracy: 0.8848 - val_loss: 0.5923 - val_accuracy: 0.8332\n",
      "Reduced learning rate to 1.0000001111620804e-06.\n",
      "Epoch 20/80\n",
      "110/110 [==============================] - 3s 27ms/step - loss: 0.4241 - accuracy: 0.8868 - val_loss: 0.5927 - val_accuracy: 0.8322\n",
      "Epoch 21/80\n",
      "110/110 [==============================] - 3s 26ms/step - loss: 0.4220 - accuracy: 0.8852 - val_loss: 0.5929 - val_accuracy: 0.8316\n",
      "Reduced learning rate to 1.0000001537946446e-07.\n",
      "Epoch 22/80\n",
      "110/110 [==============================] - 3s 27ms/step - loss: 0.4194 - accuracy: 0.8893 - val_loss: 0.5931 - val_accuracy: 0.8311\n"
     ]
    }
   ],
   "source": [
    "callback = AdjustLearningRateCallback(factor=0.1, patience=2, min_lr=1e-8)\n",
    "early_stopping = EarlyStopping(monitor='val_loss', patience=5)\n",
    "model.compile(optimizer='Adam', loss=weighted_crossentropy(class_weights), metrics=['accuracy'])\n",
    "history=model.fit(X_train, y_train, batch_size=128, epochs=80, validation_data=(X_val, y_val), callbacks=[callback,early_stopping])"
   ]
  },
  {
   "cell_type": "code",
   "execution_count": 8,
   "metadata": {},
   "outputs": [
    {
     "name": "stdout",
     "output_type": "stream",
     "text": [
      "Precision: 0.7711934165636954\n",
      "Recall: 0.7367800435412044\n",
      "F1 Score: 0.7495953480129507\n",
      "Accuracy: 0.8511665325824618\n",
      "Class 1 - Precision: 0.7911646586345381, Recall: 0.8678414096916299, F1 Score: 0.8277310924369748\n",
      "Class 2 - Precision: 0.8765743073047859, Recall: 0.927381745502998, F1 Score: 0.9012625445127874\n",
      "Class 3 - Precision: 0.8170347003154574, Recall: 0.7018970189701897, F1 Score: 0.7551020408163265\n",
      "Class 4 - Precision: 0.6, Recall: 0.45, F1 Score: 0.5142857142857143\n",
      "Class 1 Accuracy: 0.9670152855993563\n",
      "Class 2 Accuracy: 0.8773129525341915\n",
      "Class 3 Accuracy: 0.8648431214802896\n",
      "Class 4 Accuracy: 0.9931617055510861\n"
     ]
    }
   ],
   "source": [
    "evaluate_model(model,X_test,y_test)"
   ]
  },
  {
   "cell_type": "code",
   "execution_count": 9,
   "metadata": {},
   "outputs": [],
   "source": [
    "y_pred_classes = np.argmax(model.predict(X_test), axis=-1)\n",
    "y_test_classes = np.argmax(y_test, axis=1)"
   ]
  },
  {
   "cell_type": "code",
   "execution_count": 10,
   "metadata": {},
   "outputs": [
    {
     "data": {
      "image/png": "[encoded data removed]",
      "text/plain": [
       "<Figure size 800x600 with 2 Axes>"
      ]
     },
     "metadata": {},
     "output_type": "display_data"
    }
   ],
   "source": [
    "plot_confusion_matrix2(y_test_classes, y_pred_classes, classes=['A', 'N', 'O', '~'])"
   ]
  }
 ],
 "metadata": {
  "kernelspec": {
   "display_name": "tensorflow",
   "language": "python",
   "name": "python3"
  },
  "language_info": {
   "codemirror_mode": {
    "name": "ipython",
    "version": 3
   },
   "file_extension": ".py",
   "mimetype": "text/x-python",
   "name": "python",
   "nbconvert_exporter": "python",
   "pygments_lexer": "ipython3",
   "version": "0.0.0"
  }
 },
 "nbformat": 4,
 "nbformat_minor": 2
}
