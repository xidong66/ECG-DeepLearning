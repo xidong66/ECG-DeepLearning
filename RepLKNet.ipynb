{
 "cells": [
  {
   "cell_type": "code",
   "execution_count": 1,
   "metadata": {},
   "outputs": [
    {
     "name": "stderr",
     "output_type": "stream",
     "text": [
      "c:\\ProgramData\\anaconda3\\envs\\tensorflow\\lib\\site-packages\\scipy\\__init__.py:132: UserWarning: A NumPy version >=1.21.6 and <1.28.0 is required for this version of SciPy (detected version 1.20.3)\n",
      "  warnings.warn(f\"A NumPy version >={np_minversion} and <{np_maxversion}\"\n"
     ]
    }
   ],
   "source": [
    "import os\n",
    "import numpy as np\n",
    "import pywt\n",
    "import random\n",
    "import seaborn as sns\n",
    "import tensorflow as tf\n",
    "from keras.layers import Add\n",
    "from tensorflow.keras.utils import to_categorical\n",
    "from tensorflow.keras.layers import (\n",
    "  Input, Conv1D, BatchNormalization, Activation, GlobalAveragePooling1D, \n",
    "  Dense, Dropout, GRU, Concatenate, LayerNormalization, MultiHeadAttention, \n",
    "  Reshape, Multiply, Softmax\n",
    ")\n",
    "from sklearn.model_selection import train_test_split\n",
    "from sklearn.manifold import TSNE\n",
    "from sklearn.utils import shuffle\n",
    "from sklearn.preprocessing import MinMaxScaler\n",
    "from matplotlib import pyplot as plt\n",
    "from utils import (\n",
    "  encode_labels, check_gpu_availability, plot_loss_accuracytupian, \n",
    "  evaluate_model, plot_confusion_matrixtupian, plot_tsne, \n",
    "  plot_precision_recall_curve_multiclasstupian, plot_roc_curve_multiclasstupian, \n",
    "  AdjustLearningRateCallback, denoise2,count_labels,denoise2_iterative2,AdjustLearningRateCallback\n",
    ")\n",
    "from utils import plot_precision_recall_curve_multiclass,plot_roc_curve_multiclass2,calculate_g_mean,plot_confusion_matrix,plot_confusion_matrix2,plot_loss_accuracy\n",
    "from tensorflow.keras.callbacks import EarlyStopping\n",
    "from tensorflow.keras.models import Model\n",
    "from tensorflow.keras.layers import Conv1DTranspose\n"
   ]
  },
  {
   "cell_type": "code",
   "execution_count": 2,
   "metadata": {},
   "outputs": [
    {
     "name": "stdout",
     "output_type": "stream",
     "text": [
      "GPU 可用\n"
     ]
    }
   ],
   "source": [
    "check_gpu_availability()"
   ]
  },
  {
   "cell_type": "code",
   "execution_count": 3,
   "metadata": {},
   "outputs": [],
   "source": [
    "datafilename1 = \"C:\\\\Users\\\\Administrator\\\\Desktop\\\\database\\\\cinc2017denoise.npz\"\n",
    "data1 = np.load(datafilename1, allow_pickle=True)\n",
    "X_train, y_train, X_val, y_val, X_test, y_test = data1['ecgstrain'], data1['labelstrain'], data1['ecgsval'], data1['labelsval'], data1['ecgstest'], data1['labelstest']"
   ]
  },
  {
   "cell_type": "code",
   "execution_count": 4,
   "metadata": {},
   "outputs": [],
   "source": [
    "y_train = encode_labels(y_train)\n",
    "y_test = encode_labels(y_test)\n",
    "y_val= encode_labels(y_val)\n",
    "y_train = to_categorical(y_train, num_classes=4)\n",
    "y_val=to_categorical(y_val, num_classes=4)\n",
    "y_test = to_categorical(y_test, num_classes=4)"
   ]
  },
  {
   "cell_type": "code",
   "execution_count": 5,
   "metadata": {},
   "outputs": [],
   "source": [
    "import tensorflow as tf\n",
    "from tensorflow.keras import layers, models, regularizers\n",
    "def conv1d_block(inputs, num_filters, kernel_size, activation='relu', use_bias=True, name=None):\n",
    "    x = layers.Conv1D(\n",
    "        filters=num_filters,\n",
    "        kernel_size=kernel_size,\n",
    "        padding='same',\n",
    "        use_bias=use_bias,\n",
    "        name=name\n",
    "    )(inputs)\n",
    "    if activation:\n",
    "        x = layers.Activation(activation)(x)\n",
    "    return x\n",
    "def GRNwithNHWC(inputs, dim, use_bias=True, name=None):\n",
    "    Gx = tf.norm(inputs, axis=[1, 2], keepdims=True)\n",
    "    Nx = Gx / (tf.reduce_mean(Gx, axis=-1, keepdims=True) + 1e-6)\n",
    "    gamma = layers.Dense(units=1, use_bias=False, name=name + '_gamma')(inputs)\n",
    "    beta = layers.Dense(units=1, use_bias=True, name=name + '_beta')(inputs) if use_bias else None\n",
    "    return gamma * Nx + beta if use_bias else gamma * Nx\n",
    "def residual_block(x, filters, kernel_size, strides):\n",
    "    shortcut = x\n",
    "    x = Conv1D(filters, kernel_size, strides=strides, padding='same')(x)\n",
    "    x = BatchNormalization()(x)\n",
    "    x = Activation('relu')(x)\n",
    "    x = Conv1D(filters, kernel_size, padding='same')(x)\n",
    "    x = BatchNormalization()(x)\n",
    "    if shortcut.shape[-1] != x.shape[-1] or shortcut.shape[-2] != x.shape[-2]:\n",
    "        shortcut = Conv1D(filters, 1, strides=strides, padding='same')(shortcut)\n",
    "        shortcut = BatchNormalization()(shortcut)\n",
    "    x = Add()([x, shortcut])\n",
    "    x = Activation('relu')(x)\n",
    "    return x\n",
    "from tensorflow.keras.layers import GlobalAveragePooling1D, Reshape, Dense, Multiply\n",
    "def se_block(input_tensor, reduction_ratio=16):\n",
    "  channels = input_tensor.shape[-1]\n",
    "  x = GlobalAveragePooling1D()(input_tensor)\n",
    "  x = Reshape((1, channels))(x)\n",
    "  x = Dense(channels // reduction_ratio, activation='relu', use_bias=False)(x)\n",
    "  x = Dense(channels, activation='sigmoid', use_bias=False)(x)\n",
    "  x = Multiply()([input_tensor, x])\n",
    "  return x\n",
    "def unireplknet_1d_model(input_shape, num_classes=4):\n",
    "    inputs = layers.Input(shape=input_shape)\n",
    "    x = conv1d_block(inputs, num_filters=64, kernel_size=3)\n",
    "    x = residual_block(x, 32, 31, 2)\n",
    "    x = se_block(x,32)\n",
    "    x = residual_block(x, 64, 17, 2)\n",
    "    x = se_block(x,64)\n",
    "    x = residual_block(x, 128, 9, 2)\n",
    "    x = se_block(x,128)\n",
    "    x = layers.GlobalAveragePooling1D()(x)\n",
    "    outputs = layers.Dense(num_classes, activation='softmax')(x)\n",
    "    model = models.Model(inputs=inputs, outputs=outputs)\n",
    "    return model\n",
    "model = unireplknet_1d_model(input_shape=(4500, 1), num_classes=4)"
   ]
  },
  {
   "cell_type": "code",
   "execution_count": 6,
   "metadata": {},
   "outputs": [],
   "source": [
    "import tensorflow as tf\n",
    "\n",
    "def weighted_crossentropy(weights):\n",
    "    def loss(y_true, y_pred):\n",
    "        # 计算未加权的交叉熵损失\n",
    "        unweighted_loss = tf.keras.losses.CategoricalCrossentropy()(y_true, y_pred)\n",
    "        # 应用类别权重\n",
    "        weighted_loss = unweighted_loss * weights\n",
    "        # 返回加权损失\n",
    "        return weighted_loss\n",
    "    return loss\n",
    "class_weights = [2.0, 1.0, 1.5, 1.0] "
   ]
  },
  {
   "cell_type": "code",
   "execution_count": 7,
   "metadata": {},
   "outputs": [
    {
     "name": "stdout",
     "output_type": "stream",
     "text": [
      "Epoch 1/80\n",
      "110/110 [==============================] - 20s 89ms/step - loss: 1.1348 - accuracy: 0.6335 - val_loss: 1.1262 - val_accuracy: 0.6485\n",
      "Epoch 2/80\n",
      "110/110 [==============================] - 8s 74ms/step - loss: 0.9017 - accuracy: 0.7131 - val_loss: 1.4076 - val_accuracy: 0.5226\n",
      "Epoch 3/80\n",
      "110/110 [==============================] - 8s 74ms/step - loss: 0.8263 - accuracy: 0.7390 - val_loss: 1.4794 - val_accuracy: 0.4757\n",
      "Reduced learning rate to 0.00010000000474974513.\n",
      "Epoch 4/80\n",
      "110/110 [==============================] - 8s 74ms/step - loss: 0.7538 - accuracy: 0.7711 - val_loss: 0.7724 - val_accuracy: 0.7624\n",
      "Epoch 5/80\n",
      "110/110 [==============================] - 8s 74ms/step - loss: 0.7184 - accuracy: 0.7835 - val_loss: 0.7552 - val_accuracy: 0.7749\n",
      "Epoch 6/80\n",
      "110/110 [==============================] - 8s 74ms/step - loss: 0.6994 - accuracy: 0.7895 - val_loss: 0.7385 - val_accuracy: 0.7798\n",
      "Epoch 7/80\n",
      "110/110 [==============================] - 8s 75ms/step - loss: 0.6863 - accuracy: 0.7945 - val_loss: 0.7307 - val_accuracy: 0.7787\n",
      "Epoch 8/80\n",
      "110/110 [==============================] - 8s 75ms/step - loss: 0.6732 - accuracy: 0.8001 - val_loss: 0.7077 - val_accuracy: 0.7787\n",
      "Epoch 9/80\n",
      "110/110 [==============================] - 8s 75ms/step - loss: 0.6622 - accuracy: 0.8032 - val_loss: 0.7619 - val_accuracy: 0.7755\n",
      "Epoch 10/80\n",
      "110/110 [==============================] - 8s 75ms/step - loss: 0.6491 - accuracy: 0.8063 - val_loss: 0.6913 - val_accuracy: 0.7907\n",
      "Epoch 11/80\n",
      "110/110 [==============================] - 8s 75ms/step - loss: 0.6432 - accuracy: 0.8093 - val_loss: 0.7209 - val_accuracy: 0.7755\n",
      "Epoch 12/80\n",
      "110/110 [==============================] - 8s 75ms/step - loss: 0.6289 - accuracy: 0.8107 - val_loss: 0.6866 - val_accuracy: 0.7973\n",
      "Epoch 13/80\n",
      "110/110 [==============================] - 8s 75ms/step - loss: 0.6231 - accuracy: 0.8136 - val_loss: 0.7015 - val_accuracy: 0.7951\n",
      "Epoch 14/80\n",
      "110/110 [==============================] - 8s 75ms/step - loss: 0.6160 - accuracy: 0.8195 - val_loss: 0.6543 - val_accuracy: 0.7973\n",
      "Epoch 15/80\n",
      "110/110 [==============================] - 8s 75ms/step - loss: 0.6099 - accuracy: 0.8198 - val_loss: 0.6534 - val_accuracy: 0.8000\n",
      "Epoch 16/80\n",
      "110/110 [==============================] - 8s 75ms/step - loss: 0.6024 - accuracy: 0.8205 - val_loss: 0.6591 - val_accuracy: 0.7929\n",
      "Epoch 17/80\n",
      "110/110 [==============================] - 8s 75ms/step - loss: 0.5936 - accuracy: 0.8240 - val_loss: 0.6472 - val_accuracy: 0.8093\n",
      "Epoch 18/80\n",
      "110/110 [==============================] - 8s 75ms/step - loss: 0.5885 - accuracy: 0.8259 - val_loss: 0.6772 - val_accuracy: 0.7902\n",
      "Epoch 19/80\n",
      "110/110 [==============================] - 8s 76ms/step - loss: 0.5827 - accuracy: 0.8285 - val_loss: 0.7285 - val_accuracy: 0.7787\n",
      "Reduced learning rate to 1.0000000656873453e-05.\n",
      "Epoch 20/80\n",
      "110/110 [==============================] - 8s 75ms/step - loss: 0.5607 - accuracy: 0.8348 - val_loss: 0.6276 - val_accuracy: 0.8163\n",
      "Epoch 21/80\n",
      "110/110 [==============================] - 8s 75ms/step - loss: 0.5545 - accuracy: 0.8383 - val_loss: 0.6132 - val_accuracy: 0.8191\n",
      "Epoch 22/80\n",
      "110/110 [==============================] - 8s 75ms/step - loss: 0.5503 - accuracy: 0.8393 - val_loss: 0.6097 - val_accuracy: 0.8202\n",
      "Epoch 23/80\n",
      "110/110 [==============================] - 8s 76ms/step - loss: 0.5508 - accuracy: 0.8394 - val_loss: 0.6097 - val_accuracy: 0.8191\n",
      "Epoch 24/80\n",
      "110/110 [==============================] - 8s 76ms/step - loss: 0.5459 - accuracy: 0.8406 - val_loss: 0.6065 - val_accuracy: 0.8158\n",
      "Epoch 25/80\n",
      "110/110 [==============================] - 8s 76ms/step - loss: 0.5453 - accuracy: 0.8413 - val_loss: 0.6076 - val_accuracy: 0.8136\n",
      "Epoch 26/80\n",
      "110/110 [==============================] - 8s 76ms/step - loss: 0.5455 - accuracy: 0.8408 - val_loss: 0.6061 - val_accuracy: 0.8169\n",
      "Epoch 27/80\n",
      "110/110 [==============================] - 8s 76ms/step - loss: 0.5445 - accuracy: 0.8414 - val_loss: 0.6070 - val_accuracy: 0.8180\n",
      "Epoch 28/80\n",
      "110/110 [==============================] - 8s 76ms/step - loss: 0.5434 - accuracy: 0.8419 - val_loss: 0.6179 - val_accuracy: 0.8114\n",
      "Reduced learning rate to 1.0000001111620804e-06.\n",
      "Epoch 29/80\n",
      "110/110 [==============================] - 8s 76ms/step - loss: 0.5427 - accuracy: 0.8443 - val_loss: 0.6019 - val_accuracy: 0.8163\n",
      "Epoch 30/80\n",
      "110/110 [==============================] - 8s 76ms/step - loss: 0.5422 - accuracy: 0.8418 - val_loss: 0.6008 - val_accuracy: 0.8185\n",
      "Epoch 31/80\n",
      "110/110 [==============================] - 8s 76ms/step - loss: 0.5379 - accuracy: 0.8448 - val_loss: 0.6009 - val_accuracy: 0.8202\n",
      "Epoch 32/80\n",
      "110/110 [==============================] - 8s 76ms/step - loss: 0.5443 - accuracy: 0.8404 - val_loss: 0.6012 - val_accuracy: 0.8185\n",
      "Reduced learning rate to 1.0000001537946446e-07.\n",
      "Epoch 33/80\n",
      "110/110 [==============================] - 8s 76ms/step - loss: 0.5381 - accuracy: 0.8465 - val_loss: 0.6012 - val_accuracy: 0.8185\n",
      "Epoch 34/80\n",
      "110/110 [==============================] - 8s 76ms/step - loss: 0.5375 - accuracy: 0.8438 - val_loss: 0.6012 - val_accuracy: 0.8174\n",
      "Reduced learning rate to 1.000000171558213e-08.\n",
      "Epoch 35/80\n",
      "110/110 [==============================] - 8s 76ms/step - loss: 0.5417 - accuracy: 0.8428 - val_loss: 0.6015 - val_accuracy: 0.8174\n"
     ]
    }
   ],
   "source": [
    "callback = AdjustLearningRateCallback(factor=0.1, patience=2, min_lr=1e-8)\n",
    "early_stopping = EarlyStopping(monitor='val_loss', patience=5)\n",
    "model.compile(optimizer='Adam', loss=weighted_crossentropy(class_weights), metrics=['accuracy'])\n",
    "history=model.fit(X_train, y_train, batch_size=128, epochs=80, validation_data=(X_val, y_val), callbacks=[callback,early_stopping])"
   ]
  },
  {
   "cell_type": "code",
   "execution_count": 8,
   "metadata": {},
   "outputs": [
    {
     "name": "stdout",
     "output_type": "stream",
     "text": [
      "Precision: 0.7624689651433838\n",
      "Recall: 0.6815608845045446\n",
      "F1 Score: 0.7111504775780444\n",
      "Accuracy: 0.831858407079646\n",
      "Class 1 - Precision: 0.8133333333333334, Recall: 0.8061674008810573, F1 Score: 0.8097345132743364\n",
      "Class 2 - Precision: 0.8437686344663089, Recall: 0.9427048634243838, F1 Score: 0.8904971680302076\n",
      "Class 3 - Precision: 0.8094405594405595, Recall: 0.6273712737127372, F1 Score: 0.7068702290076335\n",
      "Class 4 - Precision: 0.5833333333333334, Recall: 0.35, F1 Score: 0.4375\n",
      "Class 1 Accuracy: 0.9654062751407884\n",
      "Class 2 Accuracy: 0.8600160901045857\n",
      "Class 3 Accuracy: 0.8455349959774738\n",
      "Class 4 Accuracy: 0.9927594529364441\n"
     ]
    }
   ],
   "source": [
    "evaluate_model(model,X_test,y_test)"
   ]
  },
  {
   "cell_type": "code",
   "execution_count": 9,
   "metadata": {},
   "outputs": [],
   "source": [
    "y_pred_classes = np.argmax(model.predict(X_test), axis=-1)\n",
    "y_test_classes = np.argmax(y_test, axis=1)"
   ]
  },
  {
   "cell_type": "code",
   "execution_count": 10,
   "metadata": {},
   "outputs": [
    {
     "data": {
      "image/png": "[encoded data removed]",
      "text/plain": [
       "<Figure size 800x600 with 2 Axes>"
      ]
     },
     "metadata": {},
     "output_type": "display_data"
    }
   ],
   "source": [
    "plot_confusion_matrix2(y_test_classes, y_pred_classes, classes=['A', 'N', 'O', '~'])"
   ]
  }
 ],
 "metadata": {
  "kernelspec": {
   "display_name": "tensorflow",
   "language": "python",
   "name": "python3"
  },
  "language_info": {
   "codemirror_mode": {
    "name": "ipython",
    "version": 3
   },
   "file_extension": ".py",
   "mimetype": "text/x-python",
   "name": "python",
   "nbconvert_exporter": "python",
   "pygments_lexer": "ipython3",
   "version": "0.0.0"
  }
 },
 "nbformat": 4,
 "nbformat_minor": 2
}
