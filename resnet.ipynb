{
 "cells": [
  {
   "cell_type": "code",
   "execution_count": 1,
   "metadata": {},
   "outputs": [
    {
     "name": "stderr",
     "output_type": "stream",
     "text": [
      "c:\\ProgramData\\anaconda3\\envs\\tensorflow\\lib\\site-packages\\scipy\\__init__.py:132: UserWarning: A NumPy version >=1.21.6 and <1.28.0 is required for this version of SciPy (detected version 1.20.3)\n",
      "  warnings.warn(f\"A NumPy version >={np_minversion} and <{np_maxversion}\"\n"
     ]
    }
   ],
   "source": [
    "import os\n",
    "import numpy as np\n",
    "import pywt\n",
    "import random\n",
    "import seaborn as sns\n",
    "import tensorflow as tf\n",
    "from keras.layers import Add\n",
    "from tensorflow.keras.utils import to_categorical\n",
    "from tensorflow.keras.layers import (\n",
    "  Input, Conv1D, BatchNormalization, Activation, GlobalAveragePooling1D, \n",
    "  Dense, Dropout, GRU, Concatenate, LayerNormalization, MultiHeadAttention, \n",
    "  Reshape, Multiply, Softmax\n",
    ")\n",
    "from sklearn.model_selection import train_test_split\n",
    "from sklearn.manifold import TSNE\n",
    "from sklearn.utils import shuffle\n",
    "from sklearn.preprocessing import MinMaxScaler\n",
    "from matplotlib import pyplot as plt\n",
    "from utils import (\n",
    "  encode_labels, check_gpu_availability, plot_loss_accuracytupian, \n",
    "  evaluate_model, plot_confusion_matrixtupian, plot_tsne, \n",
    "  plot_precision_recall_curve_multiclasstupian, plot_roc_curve_multiclasstupian, \n",
    "  AdjustLearningRateCallback, denoise2,count_labels,denoise2_iterative2,AdjustLearningRateCallback\n",
    ")\n",
    "from utils import plot_precision_recall_curve_multiclass,plot_roc_curve_multiclass2,calculate_g_mean,plot_confusion_matrix,plot_confusion_matrix2,plot_loss_accuracy\n",
    "from tensorflow.keras.callbacks import EarlyStopping\n",
    "from tensorflow.keras.models import Model\n",
    "from tensorflow.keras.layers import Conv1DTranspose\n"
   ]
  },
  {
   "cell_type": "code",
   "execution_count": 2,
   "metadata": {},
   "outputs": [
    {
     "name": "stdout",
     "output_type": "stream",
     "text": [
      "GPU 可用\n"
     ]
    }
   ],
   "source": [
    "check_gpu_availability()"
   ]
  },
  {
   "cell_type": "code",
   "execution_count": 3,
   "metadata": {},
   "outputs": [],
   "source": [
    "datafilename1 = \"C:\\\\Users\\\\Administrator\\\\Desktop\\\\database\\\\cinc2017denoise.npz\"\n",
    "data1 = np.load(datafilename1, allow_pickle=True)\n",
    "X_train, y_train, X_val, y_val, X_test, y_test = data1['ecgstrain'], data1['labelstrain'], data1['ecgsval'], data1['labelsval'], data1['ecgstest'], data1['labelstest']"
   ]
  },
  {
   "cell_type": "code",
   "execution_count": 4,
   "metadata": {},
   "outputs": [],
   "source": [
    "y_train = encode_labels(y_train)\n",
    "y_test = encode_labels(y_test)\n",
    "y_val= encode_labels(y_val)\n",
    "y_train = to_categorical(y_train, num_classes=4)\n",
    "y_val=to_categorical(y_val, num_classes=4)\n",
    "y_test = to_categorical(y_test, num_classes=4)"
   ]
  },
  {
   "cell_type": "code",
   "execution_count": 1,
   "metadata": {},
   "outputs": [
    {
     "name": "stderr",
     "output_type": "stream",
     "text": [
      "c:\\ProgramData\\anaconda3\\envs\\tensorflow\\lib\\site-packages\\scipy\\__init__.py:132: UserWarning: A NumPy version >=1.21.6 and <1.28.0 is required for this version of SciPy (detected version 1.20.3)\n",
      "  warnings.warn(f\"A NumPy version >={np_minversion} and <{np_maxversion}\"\n"
     ]
    }
   ],
   "source": [
    "import tensorflow as tf\n",
    "from tensorflow.keras.layers import Input, Conv1D, BatchNormalization, Activation, Add, GlobalAveragePooling1D, Dropout, Dense\n",
    "from tensorflow.keras.models import Model\n",
    "\n",
    "def residual_block(x, filters, kernel_size, strides):\n",
    "    shortcut = x\n",
    "    # 主卷积路径\n",
    "    x = Conv1D(filters, kernel_size, strides=strides, padding='same')(x)\n",
    "    x = BatchNormalization()(x)\n",
    "    x = Activation('relu')(x)\n",
    "    x = Conv1D(filters, kernel_size, padding='same')(x)\n",
    "    x = BatchNormalization()(x)\n",
    "\n",
    "    # 如果shortcut的形状与x不匹配，则调整shortcut\n",
    "    if shortcut.shape[-1] != x.shape[-1] or shortcut.shape[-2] != x.shape[-2]:\n",
    "        shortcut = Conv1D(filters, 1, strides=strides, padding='same')(shortcut)\n",
    "        shortcut = BatchNormalization()(shortcut)\n",
    "\n",
    "    # 添加跳过连接\n",
    "    x = Add()([x, shortcut])\n",
    "    x = Activation('relu')(x)\n",
    "    return x\n",
    "\n",
    "def resnet(input_shape, num_classes):\n",
    "    inputs = Input(shape=input_shape)\n",
    "    x = Conv1D(32, 31, strides=2, padding='same')(inputs)\n",
    "    x = BatchNormalization()(x)\n",
    "    x = Activation('relu')(x)\n",
    "\n",
    "    # Residual blocks\n",
    "    x = residual_block(x, 32, 31, 2)\n",
    "    x = residual_block(x, 64, 17, 2)\n",
    "    x = residual_block(x, 128, 9, 2)\n",
    "    x = residual_block(x, 256, 5, 2)\n",
    "\n",
    "    # Classifier\n",
    "    x = GlobalAveragePooling1D()(x)\n",
    "    x = Dropout(0.1)(x)\n",
    "    x = Dense(num_classes, activation='softmax')(x)\n",
    "\n",
    "    model = Model(inputs=inputs, outputs=x)\n",
    "    return model\n",
    "\n",
    "# Example usage:\n",
    "model =resnet((4500, 1), 4)\n",
    "model.summary()\n"
   ]
  },
  {
   "cell_type": "code",
   "execution_count": 7,
   "metadata": {},
   "outputs": [],
   "source": [
    "import tensorflow as tf\n",
    "\n",
    "def weighted_crossentropy(weights):\n",
    "    def loss(y_true, y_pred):\n",
    "        # 计算未加权的交叉熵损失\n",
    "        unweighted_loss = tf.keras.losses.CategoricalCrossentropy()(y_true, y_pred)\n",
    "        # 应用类别权重\n",
    "        weighted_loss = unweighted_loss * weights\n",
    "        # 返回加权损失\n",
    "        return weighted_loss\n",
    "    return loss\n",
    "class_weights = [2.0, 1.0, 1.5, 1.0] "
   ]
  },
  {
   "cell_type": "code",
   "execution_count": 8,
   "metadata": {},
   "outputs": [
    {
     "name": "stdout",
     "output_type": "stream",
     "text": [
      "Epoch 1/80\n",
      "110/110 [==============================] - 15s 50ms/step - loss: 1.0603 - accuracy: 0.6561 - val_loss: 1.0396 - val_accuracy: 0.6605\n",
      "Epoch 2/80\n",
      "110/110 [==============================] - 4s 38ms/step - loss: 0.8534 - accuracy: 0.7300 - val_loss: 0.9164 - val_accuracy: 0.6997\n",
      "Epoch 3/80\n",
      "110/110 [==============================] - 4s 38ms/step - loss: 0.7934 - accuracy: 0.7543 - val_loss: 0.8251 - val_accuracy: 0.7477\n",
      "Epoch 4/80\n",
      "110/110 [==============================] - 4s 39ms/step - loss: 0.7504 - accuracy: 0.7678 - val_loss: 0.8198 - val_accuracy: 0.7471\n",
      "Epoch 5/80\n",
      "110/110 [==============================] - 4s 39ms/step - loss: 0.7236 - accuracy: 0.7803 - val_loss: 0.7965 - val_accuracy: 0.7619\n",
      "Epoch 6/80\n",
      "110/110 [==============================] - 4s 39ms/step - loss: 0.6996 - accuracy: 0.7883 - val_loss: 0.7557 - val_accuracy: 0.7624\n",
      "Epoch 7/80\n",
      "110/110 [==============================] - 4s 39ms/step - loss: 0.6737 - accuracy: 0.7951 - val_loss: 0.7452 - val_accuracy: 0.7717\n",
      "Epoch 8/80\n",
      "110/110 [==============================] - 4s 38ms/step - loss: 0.6572 - accuracy: 0.7986 - val_loss: 0.7297 - val_accuracy: 0.7749\n",
      "Epoch 9/80\n",
      "110/110 [==============================] - 4s 38ms/step - loss: 0.6263 - accuracy: 0.8136 - val_loss: 0.7336 - val_accuracy: 0.7629\n",
      "Epoch 10/80\n",
      "110/110 [==============================] - 4s 39ms/step - loss: 0.6083 - accuracy: 0.8212 - val_loss: 0.6386 - val_accuracy: 0.8093\n",
      "Epoch 11/80\n",
      "110/110 [==============================] - 4s 39ms/step - loss: 0.5928 - accuracy: 0.8264 - val_loss: 0.9379 - val_accuracy: 0.7079\n",
      "Epoch 12/80\n",
      "110/110 [==============================] - 4s 39ms/step - loss: 0.5592 - accuracy: 0.8390 - val_loss: 0.6974 - val_accuracy: 0.7847\n",
      "Reduced learning rate to 0.00010000000474974513.\n",
      "Epoch 13/80\n",
      "110/110 [==============================] - 4s 39ms/step - loss: 0.4630 - accuracy: 0.8720 - val_loss: 0.5927 - val_accuracy: 0.8245\n",
      "Epoch 14/80\n",
      "110/110 [==============================] - 4s 39ms/step - loss: 0.4220 - accuracy: 0.8830 - val_loss: 0.5703 - val_accuracy: 0.8349\n",
      "Epoch 15/80\n",
      "110/110 [==============================] - 4s 39ms/step - loss: 0.4021 - accuracy: 0.8898 - val_loss: 0.5664 - val_accuracy: 0.8371\n",
      "Epoch 16/80\n",
      "110/110 [==============================] - 4s 39ms/step - loss: 0.3834 - accuracy: 0.8971 - val_loss: 0.5737 - val_accuracy: 0.8322\n",
      "Epoch 17/80\n",
      "110/110 [==============================] - 4s 39ms/step - loss: 0.3652 - accuracy: 0.9020 - val_loss: 0.5614 - val_accuracy: 0.8371\n",
      "Epoch 18/80\n",
      "110/110 [==============================] - 4s 39ms/step - loss: 0.3464 - accuracy: 0.9079 - val_loss: 0.5555 - val_accuracy: 0.8387\n",
      "Epoch 19/80\n",
      "110/110 [==============================] - 4s 38ms/step - loss: 0.3306 - accuracy: 0.9134 - val_loss: 0.5885 - val_accuracy: 0.8267\n",
      "Epoch 20/80\n",
      "110/110 [==============================] - 4s 39ms/step - loss: 0.3119 - accuracy: 0.9181 - val_loss: 0.5639 - val_accuracy: 0.8381\n",
      "Reduced learning rate to 1.0000000656873453e-05.\n",
      "Epoch 21/80\n",
      "110/110 [==============================] - 4s 39ms/step - loss: 0.2853 - accuracy: 0.9304 - val_loss: 0.5421 - val_accuracy: 0.8425\n",
      "Epoch 22/80\n",
      "110/110 [==============================] - 4s 39ms/step - loss: 0.2805 - accuracy: 0.9326 - val_loss: 0.5407 - val_accuracy: 0.8420\n",
      "Epoch 23/80\n",
      "110/110 [==============================] - 4s 39ms/step - loss: 0.2769 - accuracy: 0.9340 - val_loss: 0.5395 - val_accuracy: 0.8447\n",
      "Epoch 24/80\n",
      "110/110 [==============================] - 4s 39ms/step - loss: 0.2776 - accuracy: 0.9315 - val_loss: 0.5413 - val_accuracy: 0.8463\n",
      "Epoch 25/80\n",
      "110/110 [==============================] - 4s 39ms/step - loss: 0.2706 - accuracy: 0.9364 - val_loss: 0.5412 - val_accuracy: 0.8447\n",
      "Reduced learning rate to 1.0000001111620804e-06.\n",
      "Epoch 26/80\n",
      "110/110 [==============================] - 4s 39ms/step - loss: 0.2666 - accuracy: 0.9369 - val_loss: 0.5416 - val_accuracy: 0.8458\n",
      "Epoch 27/80\n",
      "110/110 [==============================] - 4s 39ms/step - loss: 0.2684 - accuracy: 0.9353 - val_loss: 0.5419 - val_accuracy: 0.8463\n",
      "Reduced learning rate to 1.0000001537946446e-07.\n",
      "Epoch 28/80\n",
      "110/110 [==============================] - 4s 39ms/step - loss: 0.2680 - accuracy: 0.9357 - val_loss: 0.5420 - val_accuracy: 0.8469\n"
     ]
    }
   ],
   "source": [
    "callback = AdjustLearningRateCallback(factor=0.1, patience=2, min_lr=1e-8)\n",
    "early_stopping = EarlyStopping(monitor='val_loss', patience=5)\n",
    "model.compile(optimizer='Adam', loss=weighted_crossentropy(class_weights), metrics=['accuracy'])\n",
    "history=model.fit(X_train, y_train, batch_size=128, epochs=80, validation_data=(X_val, y_val), callbacks=[callback,early_stopping])"
   ]
  },
  {
   "cell_type": "code",
   "execution_count": 17,
   "metadata": {},
   "outputs": [
    {
     "name": "stdout",
     "output_type": "stream",
     "text": [
      "Precision: 0.8237366315750647\n",
      "Recall: 0.8431901423389585\n",
      "F1 Score: 0.8317914883535291\n",
      "Accuracy: 0.8632341110217217\n",
      "Class 1 - Precision: 0.8235294117647058, Recall: 0.9251101321585903, F1 Score: 0.8713692946058091\n",
      "Class 2 - Precision: 0.8889602053915276, Recall: 0.9227181878747501, F1 Score: 0.9055246812683884\n",
      "Class 3 - Precision: 0.8205521472392638, Recall: 0.7249322493224932, F1 Score: 0.7697841726618705\n",
      "Class 4 - Precision: 0.7619047619047619, Recall: 0.8, F1 Score: 0.7804878048780488\n",
      "Class 1 Accuracy: 0.9750603378921963\n",
      "Class 2 Accuracy: 0.8837489943684634\n",
      "Class 3 Accuracy: 0.8712791633145616\n",
      "Class 4 Accuracy: 0.996379726468222\n"
     ]
    }
   ],
   "source": [
    "evaluate_model(model,X_test,y_test)"
   ]
  },
  {
   "cell_type": "code",
   "execution_count": 18,
   "metadata": {},
   "outputs": [],
   "source": [
    "y_pred_classes = np.argmax(model.predict(X_test), axis=-1)\n",
    "y_test_classes = np.argmax(y_test, axis=1)"
   ]
  },
  {
   "cell_type": "code",
   "execution_count": 19,
   "metadata": {},
   "outputs": [
    {
     "data": {
      "image/png": "[encoded data removed]",
      "text/plain": [
       "<Figure size 800x600 with 2 Axes>"
      ]
     },
     "metadata": {},
     "output_type": "display_data"
    }
   ],
   "source": [
    "plot_confusion_matrix2(y_test_classes, y_pred_classes, classes=['A', 'N', 'O', '~'])"
   ]
  }
 ],
 "metadata": {
  "kernelspec": {
   "display_name": "tensorflow",
   "language": "python",
   "name": "python3"
  },
  "language_info": {
   "codemirror_mode": {
    "name": "ipython",
    "version": 3
   },
   "file_extension": ".py",
   "mimetype": "text/x-python",
   "name": "python",
   "nbconvert_exporter": "python",
   "pygments_lexer": "ipython3",
   "version": "0.0.0"
  }
 },
 "nbformat": 4,
 "nbformat_minor": 2
}
