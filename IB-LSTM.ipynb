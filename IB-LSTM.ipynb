{
 "cells": [
  {
   "cell_type": "code",
   "execution_count": 1,
   "metadata": {},
   "outputs": [
    {
     "name": "stderr",
     "output_type": "stream",
     "text": [
      "c:\\ProgramData\\anaconda3\\envs\\tensorflow\\lib\\site-packages\\scipy\\__init__.py:132: UserWarning: A NumPy version >=1.21.6 and <1.28.0 is required for this version of SciPy (detected version 1.20.3)\n",
      "  warnings.warn(f\"A NumPy version >={np_minversion} and <{np_maxversion}\"\n"
     ]
    }
   ],
   "source": [
    "import os\n",
    "import numpy as np\n",
    "import pywt\n",
    "import random\n",
    "import seaborn as sns\n",
    "import tensorflow as tf\n",
    "from keras.layers import Add\n",
    "from tensorflow.keras.utils import to_categorical\n",
    "from tensorflow.keras.layers import (\n",
    "  Input, Conv1D, BatchNormalization, Activation, GlobalAveragePooling1D, \n",
    "  Dense, Dropout, GRU, Concatenate, LayerNormalization, MultiHeadAttention, \n",
    "  Reshape, Multiply, Softmax\n",
    ")\n",
    "from sklearn.model_selection import train_test_split\n",
    "from sklearn.manifold import TSNE\n",
    "from sklearn.utils import shuffle\n",
    "from sklearn.preprocessing import MinMaxScaler\n",
    "from matplotlib import pyplot as plt\n",
    "from utils import (\n",
    "  encode_labels, check_gpu_availability, plot_loss_accuracytupian, \n",
    "  evaluate_model, plot_confusion_matrixtupian, plot_tsne, \n",
    "  plot_precision_recall_curve_multiclasstupian, plot_roc_curve_multiclasstupian, \n",
    "  AdjustLearningRateCallback, denoise2,count_labels,denoise2_iterative2,AdjustLearningRateCallback\n",
    ")\n",
    "from utils import plot_precision_recall_curve_multiclass,plot_roc_curve_multiclass2,calculate_g_mean,plot_confusion_matrix,plot_confusion_matrix2,plot_loss_accuracy\n",
    "from tensorflow.keras.callbacks import EarlyStopping\n",
    "from tensorflow.keras.models import Model\n",
    "from tensorflow.keras.layers import Conv1DTranspose\n"
   ]
  },
  {
   "cell_type": "code",
   "execution_count": 2,
   "metadata": {},
   "outputs": [
    {
     "name": "stdout",
     "output_type": "stream",
     "text": [
      "GPU 可用\n"
     ]
    }
   ],
   "source": [
    "check_gpu_availability()"
   ]
  },
  {
   "cell_type": "code",
   "execution_count": 3,
   "metadata": {},
   "outputs": [],
   "source": [
    "# 加载数据\n",
    "datafilename1 = \"C:\\\\Users\\\\Administrator\\\\Desktop\\\\MFEG\\\\dataprocessing\\\\cinc2017denoise.npz\"\n",
    "data1 = np.load(datafilename1, allow_pickle=True)\n",
    "X_train, y_train, X_val, y_val, X_test, y_test = data1['ecgstrain'], data1['labelstrain'], data1['ecgsval'], data1['labelsval'], data1['ecgstest'], data1['labelstest']\n",
    "\n"
   ]
  },
  {
   "cell_type": "code",
   "execution_count": 4,
   "metadata": {},
   "outputs": [],
   "source": [
    "y_train = encode_labels(y_train)\n",
    "y_test = encode_labels(y_test)\n",
    "y_val= encode_labels(y_val)\n",
    "y_train = to_categorical(y_train, num_classes=4)\n",
    "y_val=to_categorical(y_val, num_classes=4)\n",
    "y_test = to_categorical(y_test, num_classes=4)"
   ]
  },
  {
   "cell_type": "code",
   "execution_count": 5,
   "metadata": {},
   "outputs": [
    {
     "name": "stdout",
     "output_type": "stream",
     "text": [
      "Model: \"model\"\n",
      "__________________________________________________________________________________________________\n",
      "Layer (type)                    Output Shape         Param #     Connected to                     \n",
      "==================================================================================================\n",
      "input_1 (InputLayer)            [(None, 4500, 1)]    0                                            \n",
      "__________________________________________________________________________________________________\n",
      "conv1d (Conv1D)                 (None, 4500, 32)     640         input_1[0][0]                    \n",
      "__________________________________________________________________________________________________\n",
      "batch_normalization (BatchNorma (None, 4500, 32)     128         conv1d[0][0]                     \n",
      "__________________________________________________________________________________________________\n",
      "activation (Activation)         (None, 4500, 32)     0           batch_normalization[0][0]        \n",
      "__________________________________________________________________________________________________\n",
      "conv1d_1 (Conv1D)               (None, 2250, 32)     3104        activation[0][0]                 \n",
      "__________________________________________________________________________________________________\n",
      "batch_normalization_1 (BatchNor (None, 2250, 32)     128         conv1d_1[0][0]                   \n",
      "__________________________________________________________________________________________________\n",
      "activation_1 (Activation)       (None, 2250, 32)     0           batch_normalization_1[0][0]      \n",
      "__________________________________________________________________________________________________\n",
      "conv1d_2 (Conv1D)               (None, 2250, 32)     3104        activation_1[0][0]               \n",
      "__________________________________________________________________________________________________\n",
      "conv1d_3 (Conv1D)               (None, 2250, 32)     1056        activation[0][0]                 \n",
      "__________________________________________________________________________________________________\n",
      "batch_normalization_2 (BatchNor (None, 2250, 32)     128         conv1d_2[0][0]                   \n",
      "__________________________________________________________________________________________________\n",
      "batch_normalization_3 (BatchNor (None, 2250, 32)     128         conv1d_3[0][0]                   \n",
      "__________________________________________________________________________________________________\n",
      "add (Add)                       (None, 2250, 32)     0           batch_normalization_2[0][0]      \n",
      "                                                                 batch_normalization_3[0][0]      \n",
      "__________________________________________________________________________________________________\n",
      "activation_2 (Activation)       (None, 2250, 32)     0           add[0][0]                        \n",
      "__________________________________________________________________________________________________\n",
      "conv1d_4 (Conv1D)               (None, 1125, 64)     6208        activation_2[0][0]               \n",
      "__________________________________________________________________________________________________\n",
      "batch_normalization_4 (BatchNor (None, 1125, 64)     256         conv1d_4[0][0]                   \n",
      "__________________________________________________________________________________________________\n",
      "activation_3 (Activation)       (None, 1125, 64)     0           batch_normalization_4[0][0]      \n",
      "__________________________________________________________________________________________________\n",
      "conv1d_5 (Conv1D)               (None, 1125, 64)     12352       activation_3[0][0]               \n",
      "__________________________________________________________________________________________________\n",
      "conv1d_6 (Conv1D)               (None, 1125, 64)     2112        activation_2[0][0]               \n",
      "__________________________________________________________________________________________________\n",
      "batch_normalization_5 (BatchNor (None, 1125, 64)     256         conv1d_5[0][0]                   \n",
      "__________________________________________________________________________________________________\n",
      "batch_normalization_6 (BatchNor (None, 1125, 64)     256         conv1d_6[0][0]                   \n",
      "__________________________________________________________________________________________________\n",
      "add_1 (Add)                     (None, 1125, 64)     0           batch_normalization_5[0][0]      \n",
      "                                                                 batch_normalization_6[0][0]      \n",
      "__________________________________________________________________________________________________\n",
      "activation_4 (Activation)       (None, 1125, 64)     0           add_1[0][0]                      \n",
      "__________________________________________________________________________________________________\n",
      "conv1d_7 (Conv1D)               (None, 563, 128)     24704       activation_4[0][0]               \n",
      "__________________________________________________________________________________________________\n",
      "batch_normalization_7 (BatchNor (None, 563, 128)     512         conv1d_7[0][0]                   \n",
      "__________________________________________________________________________________________________\n",
      "activation_5 (Activation)       (None, 563, 128)     0           batch_normalization_7[0][0]      \n",
      "__________________________________________________________________________________________________\n",
      "conv1d_8 (Conv1D)               (None, 563, 128)     49280       activation_5[0][0]               \n",
      "__________________________________________________________________________________________________\n",
      "conv1d_9 (Conv1D)               (None, 563, 128)     8320        activation_4[0][0]               \n",
      "__________________________________________________________________________________________________\n",
      "batch_normalization_8 (BatchNor (None, 563, 128)     512         conv1d_8[0][0]                   \n",
      "__________________________________________________________________________________________________\n",
      "batch_normalization_9 (BatchNor (None, 563, 128)     512         conv1d_9[0][0]                   \n",
      "__________________________________________________________________________________________________\n",
      "add_2 (Add)                     (None, 563, 128)     0           batch_normalization_8[0][0]      \n",
      "                                                                 batch_normalization_9[0][0]      \n",
      "__________________________________________________________________________________________________\n",
      "activation_6 (Activation)       (None, 563, 128)     0           add_2[0][0]                      \n",
      "__________________________________________________________________________________________________\n",
      "gru (GRU)                       (None, 128)          99072       activation_6[0][0]               \n",
      "__________________________________________________________________________________________________\n",
      "gru_1 (GRU)                     (None, 128)          99072       activation_6[0][0]               \n",
      "__________________________________________________________________________________________________\n",
      "tf.__operators__.add (TFOpLambd (None, 128)          0           gru[0][0]                        \n",
      "                                                                 gru_1[0][0]                      \n",
      "__________________________________________________________________________________________________\n",
      "dropout (Dropout)               (None, 128)          0           tf.__operators__.add[0][0]       \n",
      "__________________________________________________________________________________________________\n",
      "dense (Dense)                   (None, 4)            516         dropout[0][0]                    \n",
      "==================================================================================================\n",
      "Total params: 312,356\n",
      "Trainable params: 310,948\n",
      "Non-trainable params: 1,408\n",
      "__________________________________________________________________________________________________\n"
     ]
    }
   ],
   "source": [
    "import tensorflow as tf\n",
    "from tensorflow.keras.layers import Input, Conv1D, BatchNormalization, Activation, Add, GlobalAveragePooling1D, Dropout, Dense,MaxPool1D\n",
    "from tensorflow.keras.models import Model\n",
    "\n",
    "def residual_block(x, filters, kernel_size, strides):\n",
    "    shortcut = x\n",
    "    # 主卷积路径\n",
    "    x = Conv1D(filters, kernel_size, strides=strides, padding='same')(x)\n",
    "    x = BatchNormalization()(x)\n",
    "    x = Activation('relu')(x)\n",
    "    x = Conv1D(filters, kernel_size, padding='same')(x)\n",
    "    x = BatchNormalization()(x)\n",
    "\n",
    "    # 如果shortcut的形状与x不匹配，则调整shortcut\n",
    "    if shortcut.shape[-1] != x.shape[-1] or shortcut.shape[-2] != x.shape[-2]:\n",
    "        shortcut = Conv1D(filters, 1, strides=strides, padding='same')(shortcut)\n",
    "        shortcut = BatchNormalization()(shortcut)\n",
    "\n",
    "    # 添加跳过连接\n",
    "    x = Add()([x, shortcut])\n",
    "    x = Activation('relu')(x)\n",
    "    return x\n",
    "\n",
    "def resnet(input_shape, num_classes):\n",
    "    inputs = Input(shape=input_shape)\n",
    "    x = Conv1D(32, 19, strides=1, padding='same')(inputs)\n",
    "    x = BatchNormalization()(x)\n",
    "    x = Activation('relu')(x)\n",
    "    x = residual_block(x, 32, 3, 2)\n",
    "    x = residual_block(x, 64, 3, 2)\n",
    "    x = residual_block(x, 128, 3, 2)\n",
    "    x1 = GRU(128, return_sequences=False)(x)\n",
    "    x2 = GRU(128, return_sequences=False)(x)\n",
    "    x=x1+x2\n",
    "    x = Dropout(0.1)(x)\n",
    "    x = Dense(num_classes, activation='softmax')(x)\n",
    "\n",
    "    model = Model(inputs=inputs, outputs=x)\n",
    "    return model\n",
    "\n",
    "# Example usage:\n",
    "model =resnet((4500, 1), 4)\n",
    "model.summary()\n"
   ]
  },
  {
   "cell_type": "code",
   "execution_count": 6,
   "metadata": {},
   "outputs": [
    {
     "name": "stdout",
     "output_type": "stream",
     "text": [
      "Epoch 1/80\n",
      "55/55 [==============================] - 30s 266ms/step - loss: 0.4226 - accuracy: 0.5798 - val_loss: 0.4446 - val_accuracy: 0.5766\n",
      "Epoch 2/80\n",
      "55/55 [==============================] - 12s 221ms/step - loss: 0.4058 - accuracy: 0.5907 - val_loss: 0.4141 - val_accuracy: 0.5733\n",
      "Epoch 3/80\n",
      "55/55 [==============================] - 12s 224ms/step - loss: 0.3996 - accuracy: 0.5994 - val_loss: 0.4013 - val_accuracy: 0.5907\n",
      "Epoch 4/80\n",
      "55/55 [==============================] - 12s 226ms/step - loss: 0.3758 - accuracy: 0.6352 - val_loss: 0.3830 - val_accuracy: 0.6332\n",
      "Epoch 5/80\n",
      "55/55 [==============================] - 12s 220ms/step - loss: 0.3441 - accuracy: 0.6742 - val_loss: 0.3401 - val_accuracy: 0.6714\n",
      "Epoch 6/80\n",
      "55/55 [==============================] - 12s 226ms/step - loss: 0.3163 - accuracy: 0.7055 - val_loss: 0.3292 - val_accuracy: 0.7063\n",
      "Epoch 7/80\n",
      "55/55 [==============================] - 13s 228ms/step - loss: 0.2924 - accuracy: 0.7429 - val_loss: 0.3209 - val_accuracy: 0.6839\n",
      "Epoch 8/80\n",
      "55/55 [==============================] - 12s 226ms/step - loss: 0.2654 - accuracy: 0.7753 - val_loss: 0.2613 - val_accuracy: 0.7842\n",
      "Epoch 9/80\n",
      "55/55 [==============================] - 12s 227ms/step - loss: 0.2508 - accuracy: 0.7897 - val_loss: 0.2526 - val_accuracy: 0.7891\n",
      "Epoch 10/80\n",
      "55/55 [==============================] - 12s 221ms/step - loss: 0.2366 - accuracy: 0.8072 - val_loss: 0.2350 - val_accuracy: 0.8076\n",
      "Epoch 11/80\n",
      "55/55 [==============================] - 13s 229ms/step - loss: 0.2262 - accuracy: 0.8167 - val_loss: 0.2536 - val_accuracy: 0.7924\n",
      "Epoch 12/80\n",
      "55/55 [==============================] - 13s 228ms/step - loss: 0.2140 - accuracy: 0.8281 - val_loss: 0.2259 - val_accuracy: 0.8218\n",
      "Epoch 13/80\n",
      "55/55 [==============================] - 12s 221ms/step - loss: 0.2061 - accuracy: 0.8349 - val_loss: 0.2292 - val_accuracy: 0.8147\n",
      "Epoch 14/80\n",
      "55/55 [==============================] - 12s 228ms/step - loss: 0.1965 - accuracy: 0.8441 - val_loss: 0.2299 - val_accuracy: 0.8196\n",
      "Reduced learning rate to 0.00010000000474974513.\n",
      "Epoch 15/80\n",
      "55/55 [==============================] - 12s 225ms/step - loss: 0.1738 - accuracy: 0.8689 - val_loss: 0.2001 - val_accuracy: 0.8490\n",
      "Epoch 16/80\n",
      "55/55 [==============================] - 12s 225ms/step - loss: 0.1626 - accuracy: 0.8767 - val_loss: 0.1983 - val_accuracy: 0.8518\n",
      "Epoch 17/80\n",
      "55/55 [==============================] - 12s 226ms/step - loss: 0.1584 - accuracy: 0.8824 - val_loss: 0.1979 - val_accuracy: 0.8529\n",
      "Epoch 18/80\n",
      "55/55 [==============================] - 12s 223ms/step - loss: 0.1545 - accuracy: 0.8818 - val_loss: 0.1975 - val_accuracy: 0.8518\n",
      "Epoch 19/80\n",
      "55/55 [==============================] - 12s 224ms/step - loss: 0.1509 - accuracy: 0.8884 - val_loss: 0.1977 - val_accuracy: 0.8534\n",
      "Epoch 20/80\n",
      "55/55 [==============================] - 13s 233ms/step - loss: 0.1466 - accuracy: 0.8906 - val_loss: 0.1993 - val_accuracy: 0.8567\n",
      "Reduced learning rate to 1.0000000656873453e-05.\n",
      "Epoch 21/80\n",
      "55/55 [==============================] - 13s 233ms/step - loss: 0.1424 - accuracy: 0.8962 - val_loss: 0.1948 - val_accuracy: 0.8561\n",
      "Epoch 22/80\n",
      "55/55 [==============================] - 12s 222ms/step - loss: 0.1413 - accuracy: 0.8965 - val_loss: 0.1950 - val_accuracy: 0.8567\n",
      "Epoch 23/80\n",
      "55/55 [==============================] - 12s 224ms/step - loss: 0.1394 - accuracy: 0.8991 - val_loss: 0.1949 - val_accuracy: 0.8589\n",
      "Reduced learning rate to 1.0000001111620804e-06.\n",
      "Epoch 24/80\n",
      "55/55 [==============================] - 12s 227ms/step - loss: 0.1392 - accuracy: 0.8993 - val_loss: 0.1947 - val_accuracy: 0.8583\n",
      "Epoch 25/80\n",
      "55/55 [==============================] - 12s 223ms/step - loss: 0.1390 - accuracy: 0.8995 - val_loss: 0.1947 - val_accuracy: 0.8578\n",
      "Epoch 26/80\n",
      "55/55 [==============================] - 12s 223ms/step - loss: 0.1390 - accuracy: 0.9004 - val_loss: 0.1947 - val_accuracy: 0.8583\n",
      "Epoch 27/80\n",
      "55/55 [==============================] - 12s 224ms/step - loss: 0.1390 - accuracy: 0.8987 - val_loss: 0.1947 - val_accuracy: 0.8583\n",
      "Epoch 28/80\n",
      "55/55 [==============================] - 12s 225ms/step - loss: 0.1388 - accuracy: 0.9005 - val_loss: 0.1947 - val_accuracy: 0.8583\n",
      "Epoch 29/80\n",
      "55/55 [==============================] - 13s 229ms/step - loss: 0.1390 - accuracy: 0.9018 - val_loss: 0.1947 - val_accuracy: 0.8589\n",
      "Epoch 30/80\n",
      "55/55 [==============================] - 12s 220ms/step - loss: 0.1393 - accuracy: 0.8996 - val_loss: 0.1947 - val_accuracy: 0.8589\n",
      "Epoch 31/80\n",
      "55/55 [==============================] - 12s 225ms/step - loss: 0.1393 - accuracy: 0.8995 - val_loss: 0.1947 - val_accuracy: 0.8589\n",
      "Reduced learning rate to 1.0000001537946446e-07.\n",
      "Epoch 32/80\n",
      "55/55 [==============================] - 12s 225ms/step - loss: 0.1392 - accuracy: 0.9012 - val_loss: 0.1947 - val_accuracy: 0.8594\n",
      "Epoch 33/80\n",
      "55/55 [==============================] - 12s 222ms/step - loss: 0.1380 - accuracy: 0.9015 - val_loss: 0.1947 - val_accuracy: 0.8594\n",
      "Reduced learning rate to 1.000000171558213e-08.\n",
      "Epoch 34/80\n",
      "55/55 [==============================] - 12s 226ms/step - loss: 0.1391 - accuracy: 0.8992 - val_loss: 0.1947 - val_accuracy: 0.8594\n"
     ]
    }
   ],
   "source": [
    "callback = AdjustLearningRateCallback(factor=0.1, patience=2, min_lr=1e-8)\n",
    "early_stopping = EarlyStopping(monitor='val_loss', patience=5)\n",
    "model.compile(optimizer='Adam', loss='binary_crossentropy', metrics=['accuracy'])\n",
    "history=model.fit(X_train, y_train, batch_size=256, epochs=80, validation_data=(X_val, y_val), callbacks=[callback,early_stopping])"
   ]
  },
  {
   "cell_type": "code",
   "execution_count": 7,
   "metadata": {},
   "outputs": [
    {
     "name": "stdout",
     "output_type": "stream",
     "text": [
      "Precision: 0.8480363671270807\n",
      "Recall: 0.7176961974134647\n",
      "F1 Score: 0.7541757342527389\n",
      "Accuracy: 0.8600160901045857\n",
      "Class 1 - Precision: 0.826271186440678, Recall: 0.8590308370044053, F1 Score: 0.8423326133909288\n",
      "Class 2 - Precision: 0.8908742820676452, Recall: 0.9300466355762825, F1 Score: 0.9100391134289441\n",
      "Class 3 - Precision: 0.8, Recall: 0.7317073170731707, F1 Score: 0.7643312101910827\n",
      "Class 4 - Precision: 0.875, Recall: 0.35, F1 Score: 0.4999999999999999\n",
      "Class 1 Accuracy: 0.9706355591311343\n",
      "Class 2 Accuracy: 0.8889782783588094\n",
      "Class 3 Accuracy: 0.8660498793242156\n",
      "Class 4 Accuracy: 0.9943684633950121\n"
     ]
    }
   ],
   "source": [
    "evaluate_model(model,X_test,y_test)"
   ]
  },
  {
   "cell_type": "code",
   "execution_count": 8,
   "metadata": {},
   "outputs": [],
   "source": [
    "y_pred_classes = np.argmax(model.predict(X_test), axis=-1)\n",
    "y_test_classes = np.argmax(y_test, axis=1)"
   ]
  },
  {
   "cell_type": "code",
   "execution_count": 9,
   "metadata": {},
   "outputs": [
    {
     "data": {
      "image/png": "[encoded data removed]",
      "text/plain": [
       "<Figure size 800x600 with 2 Axes>"
      ]
     },
     "metadata": {},
     "output_type": "display_data"
    }
   ],
   "source": [
    "plot_confusion_matrix2(y_test_classes, y_pred_classes, classes=['A', 'N', 'O', '~'])"
   ]
  }
 ],
 "metadata": {
  "kernelspec": {
   "display_name": "tensorflow",
   "language": "python",
   "name": "python3"
  },
  "language_info": {
   "codemirror_mode": {
    "name": "ipython",
    "version": 3
   },
   "file_extension": ".py",
   "mimetype": "text/x-python",
   "name": "python",
   "nbconvert_exporter": "python",
   "pygments_lexer": "ipython3",
   "version": "0.0.0"
  }
 },
 "nbformat": 4,
 "nbformat_minor": 2
}
