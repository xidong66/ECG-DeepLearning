{
 "cells": [
  {
   "cell_type": "code",
   "execution_count": 1,
   "metadata": {},
   "outputs": [
    {
     "name": "stderr",
     "output_type": "stream",
     "text": [
      "c:\\ProgramData\\anaconda3\\envs\\tensorflow\\lib\\site-packages\\scipy\\__init__.py:132: UserWarning: A NumPy version >=1.21.6 and <1.28.0 is required for this version of SciPy (detected version 1.20.3)\n",
      "  warnings.warn(f\"A NumPy version >={np_minversion} and <{np_maxversion}\"\n"
     ]
    }
   ],
   "source": [
    "import os\n",
    "import numpy as np\n",
    "import pywt\n",
    "import random\n",
    "import seaborn as sns\n",
    "import tensorflow as tf\n",
    "from keras.layers import Add\n",
    "from tensorflow.keras.utils import to_categorical\n",
    "from tensorflow.keras.layers import (\n",
    "  Input, Conv1D, BatchNormalization, Activation, GlobalAveragePooling1D, \n",
    "  Dense, Dropout, GRU, Concatenate, LayerNormalization, MultiHeadAttention, \n",
    "  Reshape, Multiply, Softmax\n",
    ")\n",
    "from sklearn.model_selection import train_test_split\n",
    "from sklearn.manifold import TSNE\n",
    "from sklearn.utils import shuffle\n",
    "from sklearn.preprocessing import MinMaxScaler\n",
    "from matplotlib import pyplot as plt\n",
    "from utils import (\n",
    "  encode_labels, check_gpu_availability, plot_loss_accuracytupian, \n",
    "  evaluate_model, plot_confusion_matrixtupian, plot_tsne, \n",
    "  plot_precision_recall_curve_multiclasstupian, plot_roc_curve_multiclasstupian, \n",
    "  AdjustLearningRateCallback, denoise2,count_labels,denoise2_iterative2,AdjustLearningRateCallback\n",
    ")\n",
    "from utils import plot_precision_recall_curve_multiclass,plot_roc_curve_multiclass2,calculate_g_mean,plot_confusion_matrix,plot_confusion_matrix2,plot_loss_accuracy\n",
    "from tensorflow.keras.callbacks import EarlyStopping\n",
    "from tensorflow.keras.models import Model\n",
    "from tensorflow.keras.layers import Conv1DTranspose\n"
   ]
  },
  {
   "cell_type": "code",
   "execution_count": 2,
   "metadata": {},
   "outputs": [
    {
     "name": "stdout",
     "output_type": "stream",
     "text": [
      "GPU 可用\n"
     ]
    }
   ],
   "source": [
    "check_gpu_availability()"
   ]
  },
  {
   "cell_type": "code",
   "execution_count": 3,
   "metadata": {},
   "outputs": [],
   "source": [
    "datafilename1 = \"C:\\\\Users\\\\Administrator\\\\Desktop\\\\database\\\\cinc2017denoise.npz\"\n",
    "data1 = np.load(datafilename1, allow_pickle=True)\n",
    "X_train, y_train, X_val, y_val, X_test, y_test = data1['ecgstrain'], data1['labelstrain'], data1['ecgsval'], data1['labelsval'], data1['ecgstest'], data1['labelstest']"
   ]
  },
  {
   "cell_type": "code",
   "execution_count": 4,
   "metadata": {},
   "outputs": [],
   "source": [
    "y_train = encode_labels(y_train)\n",
    "y_test = encode_labels(y_test)\n",
    "y_val= encode_labels(y_val)\n",
    "y_train = to_categorical(y_train, num_classes=4)\n",
    "y_val=to_categorical(y_val, num_classes=4)\n",
    "y_test = to_categorical(y_test, num_classes=4)"
   ]
  },
  {
   "cell_type": "code",
   "execution_count": 5,
   "metadata": {},
   "outputs": [
    {
     "name": "stdout",
     "output_type": "stream",
     "text": [
      "Model: \"model\"\n",
      "_________________________________________________________________\n",
      "Layer (type)                 Output Shape              Param #   \n",
      "=================================================================\n",
      "input_1 (InputLayer)         [(None, 4500, 1, 1)]      0         \n",
      "_________________________________________________________________\n",
      "flatten (Flatten)            (None, 4500)              0         \n",
      "_________________________________________________________________\n",
      "gaussian_noise (GaussianNois (None, 4500)              0         \n",
      "_________________________________________________________________\n",
      "reshape (Reshape)            (None, 4500, 1)           0         \n",
      "_________________________________________________________________\n",
      "conv1d (Conv1D)              (None, 4498, 16)          64        \n",
      "_________________________________________________________________\n",
      "batch_normalization (BatchNo (None, 4498, 16)          64        \n",
      "_________________________________________________________________\n",
      "conv1d_1 (Conv1D)            (None, 4494, 32)          2592      \n",
      "_________________________________________________________________\n",
      "batch_normalization_1 (Batch (None, 4494, 32)          128       \n",
      "_________________________________________________________________\n",
      "dropout (Dropout)            (None, 4494, 32)          0         \n",
      "_________________________________________________________________\n",
      "conv1d_2 (Conv1D)            (None, 4488, 48)          10800     \n",
      "_________________________________________________________________\n",
      "batch_normalization_2 (Batch (None, 4488, 48)          192       \n",
      "_________________________________________________________________\n",
      "conv1d_3 (Conv1D)            (None, 4480, 64)          27712     \n",
      "_________________________________________________________________\n",
      "batch_normalization_3 (Batch (None, 4480, 64)          256       \n",
      "_________________________________________________________________\n",
      "dropout_1 (Dropout)          (None, 4480, 64)          0         \n",
      "_________________________________________________________________\n",
      "lstm (LSTM)                  (None, 4480, 32)          12416     \n",
      "_________________________________________________________________\n",
      "conv1d_4 (Conv1D)            (None, 4470, 96)          33888     \n",
      "_________________________________________________________________\n",
      "batch_normalization_4 (Batch (None, 4470, 96)          384       \n",
      "_________________________________________________________________\n",
      "conv1d_5 (Conv1D)            (None, 4458, 128)         159872    \n",
      "_________________________________________________________________\n",
      "batch_normalization_5 (Batch (None, 4458, 128)         512       \n",
      "_________________________________________________________________\n",
      "dropout_2 (Dropout)          (None, 4458, 128)         0         \n",
      "_________________________________________________________________\n",
      "global_average_pooling1d (Gl (None, 128)               0         \n",
      "_________________________________________________________________\n",
      "dense (Dense)                (None, 4)                 516       \n",
      "=================================================================\n",
      "Total params: 249,396\n",
      "Trainable params: 248,628\n",
      "Non-trainable params: 768\n",
      "_________________________________________________________________\n"
     ]
    }
   ],
   "source": [
    "import tensorflow as tf\n",
    "\n",
    "def model_design(row, col, num_classes):\n",
    "    tf.keras.initializers.GlorotNormal(seed=241)\n",
    "    input_layer = tf.keras.Input(shape=(row, col, 1))\n",
    "    layer = tf.keras.layers.Flatten()(input_layer)  \n",
    "    layer = tf.keras.layers.GaussianNoise(0.1)(layer)\n",
    "    layer = tf.keras.layers.Reshape((row, col))(layer) \n",
    "    layer1 = tf.keras.layers.Conv1D(filters=16, kernel_size=3, activation=\"relu\")(layer)\n",
    "    layer1 = tf.keras.layers.BatchNormalization()(layer1)\n",
    "    layer1 = tf.keras.layers.Conv1D(filters=32, kernel_size=5, activation=\"relu\")(layer1)\n",
    "    layer1 = tf.keras.layers.BatchNormalization()(layer1)\n",
    "    layer1 = tf.keras.layers.Dropout(0.1)(layer1)\n",
    "    layer2 = tf.keras.layers.Conv1D(filters=48, kernel_size=7, activation=\"relu\")(layer1)\n",
    "    layer2 = tf.keras.layers.BatchNormalization()(layer2)\n",
    "    layer2 = tf.keras.layers.Conv1D(filters=64, kernel_size=9, activation=\"relu\")(layer2)\n",
    "    layer2 = tf.keras.layers.BatchNormalization()(layer2)\n",
    "    layer2 = tf.keras.layers.Dropout(0.1)(layer2)  \n",
    "    layer2 = tf.keras.layers.LSTM(32, return_sequences=True)(layer2)\n",
    "    layer3 = tf.keras.layers.Conv1D(filters=96, kernel_size=11, activation=\"relu\")(layer2)\n",
    "    layer3 = tf.keras.layers.BatchNormalization()(layer3)\n",
    "    layer3 = tf.keras.layers.Conv1D(filters=128, kernel_size=13, activation=\"relu\")(layer3)\n",
    "    layer3 = tf.keras.layers.BatchNormalization()(layer3)\n",
    "    layer3 = tf.keras.layers.Dropout(0.1)(layer3)  \n",
    "    global_avg = tf.keras.layers.GlobalAveragePooling1D()(layer3)\n",
    "    output_layer = tf.keras.layers.Dense(num_classes, activation=\"softmax\")(global_avg)\n",
    "    model = tf.keras.Model(inputs=input_layer, outputs=output_layer)\n",
    "    return model\n",
    "\n",
    "model = model_design(4500, 1, 4)\n",
    "model.summary()\n"
   ]
  },
  {
   "cell_type": "code",
   "execution_count": 6,
   "metadata": {},
   "outputs": [],
   "source": [
    "import tensorflow as tf\n",
    "\n",
    "def focal_loss(gamma=2.0, alpha=0.25):\n",
    "    def focal_loss_fixed(y_true, y_pred):\n",
    "        epsilon = 1e-8\n",
    "        y_true = tf.cast(y_true, tf.float32)\n",
    "        y_pred = tf.clip_by_value(y_pred, epsilon, 1.0 - epsilon)\n",
    "        pt = tf.where(tf.equal(y_true, 1), y_pred, 1 - y_pred)\n",
    "        loss = -tf.reduce_sum(alpha * tf.pow(1 - pt, gamma) * tf.math.log(pt)) - \\\n",
    "               tf.reduce_sum((1 - alpha) * tf.pow(pt, gamma) * tf.math.log(1 - pt))\n",
    "        return loss\n",
    "    return focal_loss_fixed\n"
   ]
  },
  {
   "cell_type": "code",
   "execution_count": 7,
   "metadata": {},
   "outputs": [],
   "source": [
    "import tensorflow as tf\n",
    "\n",
    "def weighted_crossentropy(weights):\n",
    "    def loss(y_true, y_pred):\n",
    "        # 计算未加权的交叉熵损失\n",
    "        unweighted_loss = tf.keras.losses.CategoricalCrossentropy()(y_true, y_pred)\n",
    "        # 应用类别权重\n",
    "        weighted_loss = unweighted_loss * weights\n",
    "        # 返回加权损失\n",
    "        return weighted_loss\n",
    "    return loss\n",
    "class_weights = [2.0, 1.0, 1.5, 1.0] "
   ]
  },
  {
   "cell_type": "code",
   "execution_count": 8,
   "metadata": {},
   "outputs": [
    {
     "name": "stdout",
     "output_type": "stream",
     "text": [
      "Epoch 1/80\n",
      "WARNING:tensorflow:Model was constructed with shape (None, 4500, 1, 1) for input KerasTensor(type_spec=TensorSpec(shape=(None, 4500, 1, 1), dtype=tf.float32, name='input_1'), name='input_1', description=\"created by layer 'input_1'\"), but it was called on an input with incompatible shape (None, 4500).\n",
      "WARNING:tensorflow:Model was constructed with shape (None, 4500, 1, 1) for input KerasTensor(type_spec=TensorSpec(shape=(None, 4500, 1, 1), dtype=tf.float32, name='input_1'), name='input_1', description=\"created by layer 'input_1'\"), but it was called on an input with incompatible shape (None, 4500).\n",
      "110/110 [==============================] - ETA: 0s - loss: 1.4352 - accuracy: 0.5967WARNING:tensorflow:Model was constructed with shape (None, 4500, 1, 1) for input KerasTensor(type_spec=TensorSpec(shape=(None, 4500, 1, 1), dtype=tf.float32, name='input_1'), name='input_1', description=\"created by layer 'input_1'\"), but it was called on an input with incompatible shape (None, 4500).\n",
      "110/110 [==============================] - 56s 412ms/step - loss: 1.4352 - accuracy: 0.5967 - val_loss: 1.4118 - val_accuracy: 0.5755\n",
      "Epoch 2/80\n",
      "110/110 [==============================] - 42s 386ms/step - loss: 1.0929 - accuracy: 0.6548 - val_loss: 1.2761 - val_accuracy: 0.6000\n",
      "Epoch 3/80\n",
      "110/110 [==============================] - 43s 391ms/step - loss: 1.0183 - accuracy: 0.6756 - val_loss: 1.2561 - val_accuracy: 0.5956\n",
      "Epoch 4/80\n",
      "110/110 [==============================] - 42s 385ms/step - loss: 0.9931 - accuracy: 0.6803 - val_loss: 1.0286 - val_accuracy: 0.6654\n",
      "Epoch 5/80\n",
      "110/110 [==============================] - 41s 377ms/step - loss: 0.9633 - accuracy: 0.6867 - val_loss: 0.9650 - val_accuracy: 0.6965\n",
      "Epoch 6/80\n",
      "110/110 [==============================] - 43s 389ms/step - loss: 0.9475 - accuracy: 0.6923 - val_loss: 1.0355 - val_accuracy: 0.6730\n",
      "Epoch 7/80\n",
      "110/110 [==============================] - 42s 383ms/step - loss: 0.9199 - accuracy: 0.7031 - val_loss: 1.0048 - val_accuracy: 0.6698\n",
      "Reduced learning rate to 0.00010000000474974513.\n",
      "Epoch 8/80\n",
      "110/110 [==============================] - 42s 382ms/step - loss: 0.8652 - accuracy: 0.7226 - val_loss: 0.8721 - val_accuracy: 0.7150\n",
      "Epoch 9/80\n",
      "110/110 [==============================] - 42s 384ms/step - loss: 0.8398 - accuracy: 0.7332 - val_loss: 0.8648 - val_accuracy: 0.7292\n",
      "Epoch 10/80\n",
      "110/110 [==============================] - 43s 390ms/step - loss: 0.8334 - accuracy: 0.7373 - val_loss: 0.8654 - val_accuracy: 0.7204\n",
      "Epoch 11/80\n",
      "110/110 [==============================] - 42s 387ms/step - loss: 0.8219 - accuracy: 0.7404 - val_loss: 0.8484 - val_accuracy: 0.7177\n",
      "Epoch 12/80\n",
      "110/110 [==============================] - 43s 387ms/step - loss: 0.8197 - accuracy: 0.7440 - val_loss: 0.8468 - val_accuracy: 0.7270\n",
      "Epoch 13/80\n",
      "110/110 [==============================] - 42s 385ms/step - loss: 0.8092 - accuracy: 0.7466 - val_loss: 0.8290 - val_accuracy: 0.7373\n",
      "Epoch 14/80\n",
      "110/110 [==============================] - 43s 389ms/step - loss: 0.8047 - accuracy: 0.7496 - val_loss: 0.8254 - val_accuracy: 0.7341\n",
      "Epoch 15/80\n",
      "110/110 [==============================] - 43s 393ms/step - loss: 0.7970 - accuracy: 0.7517 - val_loss: 0.8234 - val_accuracy: 0.7411\n",
      "Epoch 16/80\n",
      "110/110 [==============================] - 43s 390ms/step - loss: 0.7921 - accuracy: 0.7517 - val_loss: 0.8103 - val_accuracy: 0.7537\n",
      "Epoch 17/80\n",
      "110/110 [==============================] - 43s 391ms/step - loss: 0.7884 - accuracy: 0.7568 - val_loss: 0.8137 - val_accuracy: 0.7411\n",
      "Epoch 18/80\n",
      "110/110 [==============================] - 42s 387ms/step - loss: 0.7802 - accuracy: 0.7572 - val_loss: 0.8159 - val_accuracy: 0.7493\n",
      "Reduced learning rate to 1.0000000656873453e-05.\n",
      "Epoch 19/80\n",
      "110/110 [==============================] - 42s 386ms/step - loss: 0.7708 - accuracy: 0.7637 - val_loss: 0.7968 - val_accuracy: 0.7559\n",
      "Epoch 20/80\n",
      "110/110 [==============================] - 42s 385ms/step - loss: 0.7684 - accuracy: 0.7629 - val_loss: 0.7941 - val_accuracy: 0.7553\n",
      "Epoch 21/80\n",
      "110/110 [==============================] - 42s 385ms/step - loss: 0.7616 - accuracy: 0.7649 - val_loss: 0.7945 - val_accuracy: 0.7564\n",
      "Epoch 22/80\n",
      "110/110 [==============================] - 43s 389ms/step - loss: 0.7634 - accuracy: 0.7634 - val_loss: 0.7923 - val_accuracy: 0.7559\n",
      "Epoch 23/80\n",
      "110/110 [==============================] - 42s 385ms/step - loss: 0.7589 - accuracy: 0.7646 - val_loss: 0.7913 - val_accuracy: 0.7515\n",
      "Epoch 24/80\n",
      "110/110 [==============================] - 42s 383ms/step - loss: 0.7637 - accuracy: 0.7610 - val_loss: 0.7911 - val_accuracy: 0.7526\n",
      "Epoch 25/80\n",
      "110/110 [==============================] - 42s 386ms/step - loss: 0.7614 - accuracy: 0.7647 - val_loss: 0.7926 - val_accuracy: 0.7542\n",
      "Epoch 26/80\n",
      "110/110 [==============================] - 42s 386ms/step - loss: 0.7624 - accuracy: 0.7648 - val_loss: 0.7919 - val_accuracy: 0.7548\n",
      "Reduced learning rate to 1.0000001111620804e-06.\n",
      "Epoch 27/80\n",
      "110/110 [==============================] - 43s 389ms/step - loss: 0.7576 - accuracy: 0.7646 - val_loss: 0.7924 - val_accuracy: 0.7537\n",
      "Epoch 28/80\n",
      "110/110 [==============================] - 43s 391ms/step - loss: 0.7599 - accuracy: 0.7643 - val_loss: 0.7924 - val_accuracy: 0.7548\n",
      "Reduced learning rate to 1.0000001537946446e-07.\n",
      "Epoch 29/80\n",
      "110/110 [==============================] - 42s 380ms/step - loss: 0.7577 - accuracy: 0.7670 - val_loss: 0.7926 - val_accuracy: 0.7553\n"
     ]
    }
   ],
   "source": [
    "callback = AdjustLearningRateCallback(factor=0.1, patience=2, min_lr=1e-8)\n",
    "early_stopping = EarlyStopping(monitor='val_loss', patience=5)\n",
    "model.compile(optimizer='Adam', loss=weighted_crossentropy(class_weights), metrics=['accuracy'])\n",
    "history=model.fit(X_train, y_train, batch_size=128, epochs=80, validation_data=(X_val, y_val), callbacks=[callback,early_stopping])"
   ]
  },
  {
   "cell_type": "code",
   "execution_count": 9,
   "metadata": {},
   "outputs": [
    {
     "name": "stdout",
     "output_type": "stream",
     "text": [
      "WARNING:tensorflow:Model was constructed with shape (None, 4500, 1, 1) for input KerasTensor(type_spec=TensorSpec(shape=(None, 4500, 1, 1), dtype=tf.float32, name='input_1'), name='input_1', description=\"created by layer 'input_1'\"), but it was called on an input with incompatible shape (None, 4500).\n",
      "Precision: 0.7199344360335522\n",
      "Recall: 0.619352065851733\n",
      "F1 Score: 0.653896375601589\n",
      "Accuracy: 0.7638777152051488\n",
      "Class 1 - Precision: 0.7162790697674418, Recall: 0.6784140969162996, F1 Score: 0.6968325791855203\n",
      "Class 2 - Precision: 0.7848244620611552, Recall: 0.9233844103930713, F1 Score: 0.8484848484848484\n",
      "Class 3 - Precision: 0.7119675456389453, Recall: 0.47560975609756095, F1 Score: 0.5702680747359871\n",
      "Class 4 - Precision: 0.6666666666666666, Recall: 0.4, F1 Score: 0.5\n",
      "Class 1 Accuracy: 0.9460981496379727\n",
      "Class 2 Accuracy: 0.8008849557522124\n",
      "Class 3 Accuracy: 0.7872083668543846\n",
      "Class 4 Accuracy: 0.9935639581657281\n"
     ]
    }
   ],
   "source": [
    "evaluate_model(model,X_test,y_test)"
   ]
  },
  {
   "cell_type": "code",
   "execution_count": 10,
   "metadata": {},
   "outputs": [],
   "source": [
    "y_pred_classes = np.argmax(model.predict(X_test), axis=-1)\n",
    "y_test_classes = np.argmax(y_test, axis=1)"
   ]
  },
  {
   "cell_type": "code",
   "execution_count": 11,
   "metadata": {},
   "outputs": [
    {
     "data": {
      "image/png": "[encoded data removed]",
      "text/plain": [
       "<Figure size 800x600 with 2 Axes>"
      ]
     },
     "metadata": {},
     "output_type": "display_data"
    }
   ],
   "source": [
    "plot_confusion_matrix2(y_test_classes, y_pred_classes, classes=['A', 'N', 'O', '~'])"
   ]
  }
 ],
 "metadata": {
  "kernelspec": {
   "display_name": "tensorflow",
   "language": "python",
   "name": "python3"
  },
  "language_info": {
   "codemirror_mode": {
    "name": "ipython",
    "version": 3
   },
   "file_extension": ".py",
   "mimetype": "text/x-python",
   "name": "python",
   "nbconvert_exporter": "python",
   "pygments_lexer": "ipython3",
   "version": "0.0.0"
  }
 },
 "nbformat": 4,
 "nbformat_minor": 2
}
